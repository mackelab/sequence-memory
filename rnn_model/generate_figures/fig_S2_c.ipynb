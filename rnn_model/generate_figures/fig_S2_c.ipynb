{
 "cells": [
  {
   "cell_type": "code",
   "execution_count": null,
   "metadata": {},
   "outputs": [],
   "source": [
    "import numpy as np\n",
    "from itertools import permutations\n",
    "import matplotlib.pyplot as plt\n",
    "import matplotlib.pyplot as mpl\n",
    "import scipy.io\n",
    "import sys\n",
    "sys.path.insert(0,'..')\n",
    "from matplotlib import gridspec\n",
    "\n",
    "from analysis.summary_parallel import *\n",
    "from analysis.analysis_utils import *\n",
    "%matplotlib inline"
   ]
  },
  {
   "cell_type": "markdown",
   "metadata": {},
   "source": [
    "## Load data"
   ]
  },
  {
   "cell_type": "code",
   "execution_count": null,
   "metadata": {},
   "outputs": [],
   "source": [
    "my_data = np.load('../data/phase_order_model.npy')\n",
    "pltcolors, pltcolors_alt = steffiscolours()\n",
    "perms= np.array([[3,1,2],[1,3,2],[3,2,1],[2,3,1],[1,2,3],[2,1,3]])\n",
    "num_N= len(my_data)\n",
    "print(\"data length = \" + str(num_N))"
   ]
  },
  {
   "cell_type": "markdown",
   "metadata": {},
   "source": [
    "## Compare predictions of data to permutation"
   ]
  },
  {
   "cell_type": "code",
   "execution_count": null,
   "metadata": {
    "scrolled": true
   },
   "outputs": [],
   "source": [
    "num_correct=0\n",
    "for dat in my_data:\n",
    "    if np.isclose(dat[0],get_phase_order(dat[1],dat[2])[0]):\n",
    "        num_correct+=1\n",
    "pred = num_correct/num_N\n",
    "print(\"perc. correct = \" + str(pred))"
   ]
  },
  {
   "cell_type": "code",
   "execution_count": null,
   "metadata": {},
   "outputs": [],
   "source": [
    "%%time\n",
    "\n",
    "do_analysis=False\n",
    "if do_analysis:\n",
    "    #1000 iterations take around an hour\n",
    "    number_permutations=1000\n",
    "    scores = []\n",
    "    sh_data=np.copy(my_data)\n",
    "    for perm in range(number_permutations):\n",
    "        num_correct=0\n",
    "        sh_ind1=np.random.rand(num_N).argsort()\n",
    "        sh_data[:,1]=sh_data[sh_ind1,1]\n",
    "        \n",
    "        sh_ind2=np.random.rand(num_N).argsort()\n",
    "        sh_data[:,2]=sh_data[sh_ind2,2]\n",
    "\n",
    "        for dat in sh_data:\n",
    "            if np.isclose(dat[0],get_phase_order(dat[1],dat[2])[0]):\n",
    "                num_correct+=1\n",
    "        print(\"perm \" +str(perm) + \" perc. correct = \" + str(num_correct/num_N))\n",
    "        scores.append(num_correct/num_N)\n",
    "    scores = np.array(scores)\n",
    "    np.save(\"../data/permuted_data.npy\", scores)\n",
    "else:\n",
    "    scores=np.load(\"../data/permuted_data.npy\")"
   ]
  },
  {
   "cell_type": "code",
   "execution_count": null,
   "metadata": {},
   "outputs": [],
   "source": [
    "with mpl.rc_context(fname=\"matplotlibrc\"):\n",
    "    fig = plt.figure(figsize = (2.8,1.4))\n",
    "    spec = gridspec.GridSpec(ncols=2, nrows=1,\n",
    "                         width_ratios=[3, 1], wspace=0.15,\n",
    "                         hspace=0.5)\n",
    "    ax1 = fig.add_subplot(spec[0])\n",
    "    ax2 = fig.add_subplot(spec[1])\n",
    "\n",
    "    ax1.hist(np.array(scores), bins = 24, color = pltcolors_alt[1], label ='permutations')\n",
    "    ax2.axvline(pred, color ='firebrick', label ='data')\n",
    "    ax1.set_ylabel(\"counts\")\n",
    "    ax1.set_xlabel(\"prop. predicted correctly\")\n",
    "\n",
    "    plt.legend(bbox_to_anchor = (0.9,1.1))\n",
    "    ax2.spines.left.set_visible(False)\n",
    "    ax2.set_xlim(.55,.58)\n",
    "    ax2.set_yticks([])\n",
    "    ax1.set_xlim(0.2,0.25)\n",
    "    ax1.set_xticks([0.2,0.22,0.24])\n",
    "    ax2.set_xticks([0.56,0.58])\n",
    "\n",
    "    d = .5  \n",
    "    kwargs = dict(marker=[(-1, -d), (1, d)], markersize=12,\n",
    "                linestyle=\"none\", color='k', mec='k', mew=1, clip_on=False)\n",
    "    ax1.plot([1],[0], transform=ax1.transAxes, **kwargs)\n",
    "    ax2.plot([-.05], [0], transform=ax2.transAxes, **kwargs)\n",
    "    plt.savefig(\"../figures/model_perm.pdf\")\n"
   ]
  },
  {
   "cell_type": "markdown",
   "metadata": {},
   "source": [
    "### Shuffle either ISI or Freq"
   ]
  },
  {
   "cell_type": "code",
   "execution_count": null,
   "metadata": {},
   "outputs": [],
   "source": [
    "%%time\n",
    "# Shuffle frequency\n",
    "\n",
    "number_permutations=1000\n",
    "scores = []\n",
    "sh_data=np.copy(my_data)\n",
    "for perm in range(number_permutations):\n",
    "    num_correct=0\n",
    "    sh_ind=np.random.rand(num_N).argsort()\n",
    "    sh_data[:,1]=sh_data[sh_ind,1]\n",
    "    for dat in sh_data:\n",
    "        if np.isclose(dat[0],get_phase_order(dat[1],dat[2])[0]):\n",
    "            num_correct+=1\n",
    "    print(\"perm \" +str(perm) + \" perc. correct = \" + str(num_correct/num_N))\n",
    "    scores.append(num_correct/num_N)"
   ]
  },
  {
   "cell_type": "code",
   "execution_count": null,
   "metadata": {},
   "outputs": [],
   "source": [
    "%%time\n",
    "#Shuffle ISI\n",
    "\n",
    "number_permutations=1000\n",
    "scores_ISIshuff = []\n",
    "sh_data=np.copy(my_data)\n",
    "for perm in range(number_permutations):\n",
    "    num_correct=0\n",
    "    sh_ind=np.random.rand(num_N).argsort()\n",
    "    sh_data[:,2]=sh_data[sh_ind,2]\n",
    "    for dat in sh_data:\n",
    "        if np.isclose(dat[0],get_phase_order(dat[1],dat[2])[0]):\n",
    "            num_correct+=1\n",
    "    print(\"perm \" +str(perm) + \" perc. correct = \" + str(num_correct/num_N))\n",
    "    scores_ISIshuff.append(num_correct/num_N)"
   ]
  },
  {
   "cell_type": "code",
   "execution_count": null,
   "metadata": {},
   "outputs": [],
   "source": [
    "with mpl.rc_context(fname=\"matplotlibrc\"):\n",
    "    fig,ax=plt.subplots(2,figsize = (8,3))\n",
    "    ax[0].hist(np.array(scores), bins = 24, color = pltcolors_alt[1], label ='permutations')\n",
    "    ax[0].axvline(pred, color ='red', label ='data')\n",
    "    ax[1].hist(np.array(scores_ISIshuff), bins = 24, color = pltcolors_alt[1], label ='permutations')\n",
    "    ax[1].axvline(pred, color ='red', label ='data')\n",
    "    ax[0].set_ylabel(\"counts\")\n",
    "    ax[1].set_ylabel(\"counts\")\n",
    "\n",
    "    ax[1].set_xlabel(\"prop. predicted correctly\")\n",
    "    ax[0].set_xticks(np.arange(.1,.61,.1), \n",
    "               labels = [])\n",
    "    ax[1].set_xticks(np.arange(.1,.61,.1), \n",
    "               labels = [\"{:.2f}\".format(np.arange(.1,.61,.1)[i]) for i in range(6)])\n",
    "    ax[0].legend(bbox_to_anchor = (0.9,1.1))\n",
    "    plt.savefig(\"../figures/pred.png\", facecolor = 'white')\n"
   ]
  }
 ],
 "metadata": {
  "kernelspec": {
   "display_name": "Python 3 (ipykernel)",
   "language": "python",
   "name": "python3"
  },
  "language_info": {
   "codemirror_mode": {
    "name": "ipython",
    "version": 3
   },
   "file_extension": ".py",
   "mimetype": "text/x-python",
   "name": "python",
   "nbconvert_exporter": "python",
   "pygments_lexer": "ipython3",
   "version": "3.9.18"
  },
  "toc": {
   "base_numbering": 1,
   "nav_menu": {},
   "number_sections": true,
   "sideBar": true,
   "skip_h1_title": false,
   "title_cell": "Table of Contents",
   "title_sidebar": "Contents",
   "toc_cell": false,
   "toc_position": {},
   "toc_section_display": true,
   "toc_window_display": false
  },
  "vscode": {
   "interpreter": {
    "hash": "b2f646de90d36ac1af8282d42c04cf1293104642c9a34194a4bf0e014a244cf4"
   }
  }
 },
 "nbformat": 4,
 "nbformat_minor": 4
}

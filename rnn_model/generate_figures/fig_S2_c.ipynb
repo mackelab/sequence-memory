{
 "cells": [
  {
   "cell_type": "code",
   "execution_count": 1,
   "id": "737c5ee3",
   "metadata": {},
   "outputs": [],
   "source": [
    "import matplotlib\n",
    "from matplotlib.colors import ListedColormap\n",
    "\n",
    "from matplotlib import cm\n",
    "import os, sys\n",
    "import numpy as np\n",
    "import matplotlib as mpl\n",
    "import matplotlib.pyplot as plt\n",
    "%matplotlib inline\n",
    "\n",
    "sys.path.insert(0,'..')\n",
    "from analysis.analysis_utils import *\n",
    "pltcolors, pltcolors_alt = steffiscolours()\n",
    "\n",
    "import pickle"
   ]
  },
  {
   "attachments": {},
   "cell_type": "markdown",
   "id": "19d68029",
   "metadata": {},
   "source": [
    "### Simulation"
   ]
  },
  {
   "cell_type": "code",
   "execution_count": 2,
   "id": "f530e7f6",
   "metadata": {},
   "outputs": [],
   "source": [
    "\n",
    "\n",
    "def get_phase_order(freq,isi):\n",
    "    data = pickle.load(open(\"../data/order_pred.pkl\",'rb'))    \n",
    "    freqs = data['freqs']\n",
    "    isis = data['isis']\n",
    "    result = data['result']\n",
    "    i = arg_is_close(freqs,freq)\n",
    "    j = arg_is_close(isis,isi-200)\n",
    "    r = int(result[i,j])\n",
    "    orders = np.array([[3,1,2],[1,3,2],[3,2,1],[2,3,1],[1,2,3],[2,1,3]])\n",
    "    return r,orders[r]\n"
   ]
  },
  {
   "cell_type": "code",
   "execution_count": 3,
   "id": "c2cf36c0",
   "metadata": {},
   "outputs": [],
   "source": [
    "# Generate plot through simulation. Borders can also be calculated analytically\n",
    "# so there likely is a more efficient way to generate this plot\n",
    "load = True\n",
    "\n",
    "orders = np.array([[3,1,2],[1,3,2],[3,2,1],[2,3,1],[1,2,3],[2,1,3]])\n",
    "\n",
    "if load:\n",
    "    data = pickle.load(open(\"../data/order_pred.pkl\",'rb'))    \n",
    "    freqs = data['freqs']\n",
    "    isis = data['isis']\n",
    "    result = data['result']\n",
    "else:\n",
    "    dt = .1 # time step in ms\n",
    "    stim_len = 200 # stimulus time in ms\n",
    "    trial_len = 6000 # simulation time in ms\n",
    "    n_stim = 4 # number of stimuli\n",
    "\n",
    "    t = np.arange(0,trial_len, dt)\n",
    "    freqs = np.arange(0.1,10,0.01) #frequencies\n",
    "    isis = np.arange(0,550,1) #interstimulus intervals\n",
    "    result = np.zeros((len(isis),len(freqs)))\n",
    "    add_offs = 0\n",
    "\n",
    "    for x, isi in enumerate(isis):\n",
    "        for y, freq in enumerate(freqs):\n",
    "\n",
    "            delay_start = int((stim_len*n_stim+isi*(n_stim-1))/dt)\n",
    "            delay_end =delay_start + int(1000/(freq*dt))\n",
    "            sine = np.sin((t/1000)*freq*np.pi*2)\n",
    "            pred_current = np.zeros((n_stim ,len(t)))\n",
    "            start = 0\n",
    "            for i in range(n_stim):\n",
    "                pred_current[i,start:]=sine[:len(pred_current[i,start:])]\n",
    "                start += int((stim_len+isi+add_offs*i)/dt)\n",
    "            phase_order = np.argsort(np.argmax(pred_current[:,delay_start:delay_end], axis = 1))\n",
    "            while phase_order[0]!=0:\n",
    "                phase_order = np.roll(phase_order, 1)\n",
    "            phase_order = phase_order[1:]\n",
    "            index = np.where((phase_order==orders).all(axis=1))\n",
    "            result[x,y] = index[0][0]\n",
    "    data = {\"freqs\":freqs,\n",
    "       \"isis\":isis,\n",
    "       \"result\":result}\n",
    "\n",
    "    pickle.dump(data, open(\"../data/order_pred.pkl\",'wb'))"
   ]
  },
  {
   "attachments": {},
   "cell_type": "markdown",
   "id": "8a0d2ab4",
   "metadata": {},
   "source": [
    "### Create plot"
   ]
  },
  {
   "cell_type": "code",
   "execution_count": 8,
   "id": "30cf70ad",
   "metadata": {},
   "outputs": [
    {
     "name": "stdout",
     "output_type": "stream",
     "text": [
      "[0.5 1.5 2.5 3.5 4.5]\n"
     ]
    },
    {
     "name": "stderr",
     "output_type": "stream",
     "text": [
      "/opt/homebrew/Caskroom/miniforge/base/envs/PhaseC/lib/python3.10/site-packages/matplotlib/text.py:1223: FutureWarning: elementwise comparison failed; returning scalar instead, but in the future will perform elementwise comparison\n",
      "  if s != self._text:\n"
     ]
    },
    {
     "data": {
      "image/png": "[encoded data removed]",
      "text/plain": [
       "<Figure size 1000x300 with 3 Axes>"
      ]
     },
     "metadata": {},
     "output_type": "display_data"
    }
   ],
   "source": [
    "col_dict={1:pltcolors_alt[1],\n",
    "          2:pltcolors_alt[3],\n",
    "          3:pltcolors_alt[0],\n",
    "          4:pltcolors_alt[2]}\n",
    "# create a colormap\n",
    "cm = ListedColormap([col_dict[x] for x in col_dict.keys()])\n",
    "\n",
    "#  description of each category\n",
    "labels = np.array([orders[0],orders[2],orders[4],orders[5]])\n",
    "len_lab = len(labels)\n",
    "\n",
    "\n",
    "norm_bins = np.sort([*col_dict.keys()]) + 0.5\n",
    "norm_bins = np.insert(norm_bins, 0, np.min(norm_bins) - 1.0)\n",
    "print(norm_bins)\n",
    "\n",
    "norm = matplotlib.colors.BoundaryNorm(norm_bins, len_lab, clip=True)\n",
    "fmt = matplotlib.ticker.FuncFormatter(lambda x, pos: labels[norm(x)])\n",
    "\n",
    "# Plot our figure\n",
    "fig = plt.figure(figsize = (10,3))\n",
    "gs = fig.add_gridspec(1, 3, width_ratios=[3.5, 0.5,1.5])  # , left=0, right=1,\n",
    "\n",
    "res4 = np.copy(result)\n",
    "res4+=.5\n",
    "res4[result>1]-=1\n",
    "res4[result>2]-=1\n",
    "ax=[[],[]]\n",
    "ax[0] = fig.add_subplot(gs[0])\n",
    "ax[1] = fig.add_subplot(gs[2])\n",
    "\n",
    "im = ax[0].imshow(res4.T, cmap=cm, norm=norm,aspect='auto')\n",
    "\n",
    "ax[0].set_yticks(np.arange(len(freqs))[::100])\n",
    "ax[0].set_yticklabels([\"{:.0f}\".format(fr) for fr in freqs[::100]])\n",
    "ax[0].set_ylabel(\"freq (Hz)\")\n",
    "ax[0].set_xticks(np.arange(len(isis))[::100])\n",
    "ax[0].set_xticklabels([\"{:.0f}\".format(isi+200) for isi in isis[::100]])\n",
    "ax[0].set_xlabel(\"ISI (ms)\")\n",
    "ax[1].axis('off')\n",
    "diff = norm_bins[1:] - norm_bins[:-1]\n",
    "tickz = norm_bins[:-1] + diff / 2\n",
    "cb = plt.colorbar(im, format=fmt, ticks=tickz,fraction=0.024, pad=0.04,ax = ax[0])\n",
    "fig.tight_layout()\n",
    "\n",
    "\n",
    "for i in range(20):\n",
    "    ax[0].plot(1000*i/(freqs*3)-200,np.arange(len(freqs)),color='white',lw=0.5)\n",
    "for i in range(20):\n",
    "    ax[0].plot(1000*i/(freqs*2)-200,np.arange(len(freqs)),color='white',lw=0.5)\n",
    "for i in range(20):\n",
    "    ax[0].plot(1000*i/(freqs)-200,np.arange(len(freqs)),color='white',lw=0.5)\n",
    "ax[0].set_ylim(0,len(res4))\n",
    "\n",
    "\n",
    "#ax[0].axvline(373)\n",
    "#ax[0].axvline(275)\n",
    "#ax[0].axvline(204)\n",
    "#ax[0].axvline(150)\n",
    "\n",
    "m4 = \"o\"\n",
    "m3 = \"v\"\n",
    "m2 = \"s\"\n",
    "m1 = \"*\"\n",
    "\n",
    "s = 0\n",
    "\n",
    "ax[0].scatter(arg_is_close(3.73,freqs),arg_is_close(400,(isis+200)),color='red',s=s,marker=m1)\n",
    "ax[0].scatter(arg_is_close(2.75,freqs),arg_is_close(400,(isis+200)),color='red',s=s,marker=m2)\n",
    "ax[0].scatter(arg_is_close(2.04,freqs),arg_is_close(400,(isis+200)),color='red',s=s,marker=m3)\n",
    "ax[0].scatter(arg_is_close(1.5,freqs),arg_is_close(400,(isis+200)),color='red',s=s,marker=m4)\n",
    "\n",
    "\n",
    "ax[0].scatter(arg_is_close(3.73,freqs),arg_is_close(500,(isis+200)),color='pink',s=s,marker=m1)\n",
    "ax[0].scatter(arg_is_close(2.75,freqs),arg_is_close(500,(isis+200)),color='pink',s=s,marker=m2)\n",
    "ax[0].scatter(arg_is_close(2.04,freqs),arg_is_close(500,(isis+200)),color='pink',s=s,marker=m3)\n",
    "ax[0].scatter(arg_is_close(1.5,freqs),arg_is_close(500,(isis+200)),color='pink',s=s,marker=m4)\n",
    "\n",
    "\n",
    "ax[0].scatter(arg_is_close(3.73,freqs),arg_is_close(250,(isis+200)),color='orange',s=s,marker=m1)\n",
    "ax[0].scatter(arg_is_close(2.75,freqs),arg_is_close(250,(isis+200)),color='orange',s=s,marker=m2)\n",
    "ax[0].scatter(arg_is_close(2.04,freqs),arg_is_close(250,(isis+200)),color='orange',s=s,marker=m3)\n",
    "ax[0].scatter(arg_is_close(1.5,freqs),arg_is_close(250,(isis+200)),color='orange',s=s,marker=m4)\n",
    "\n",
    "\n",
    "#ISIs=[250,400,500]\n",
    "#for ISI in ISIs:\n",
    "#    ax[0].axhline(ISI-200)\n",
    "plt.rcParams[\"pdf.use14corefonts\"] = True\n",
    "\n",
    "\n",
    "plt.savefig(\"../figures/model_phaseorders_pred.pdf\", facecolor='white')\n",
    "plt.savefig(\"../figures/model_phaseorders_pred.png\", facecolor='white')\n"
   ]
  },
  {
   "cell_type": "code",
   "execution_count": 5,
   "id": "ff6219b2",
   "metadata": {},
   "outputs": [
    {
     "data": {
      "text/plain": [
       "array([200, 201, 202, 203, 204, 205, 206, 207, 208, 209, 210, 211, 212,\n",
       "       213, 214, 215, 216, 217, 218, 219, 220, 221, 222, 223, 224, 225,\n",
       "       226, 227, 228, 229, 230, 231, 232, 233, 234, 235, 236, 237, 238,\n",
       "       239, 240, 241, 242, 243, 244, 245, 246, 247, 248, 249, 250, 251,\n",
       "       252, 253, 254, 255, 256, 257, 258, 259, 260, 261, 262, 263, 264,\n",
       "       265, 266, 267, 268, 269, 270, 271, 272, 273, 274, 275, 276, 277,\n",
       "       278, 279, 280, 281, 282, 283, 284, 285, 286, 287, 288, 289, 290,\n",
       "       291, 292, 293, 294, 295, 296, 297, 298, 299, 300, 301, 302, 303,\n",
       "       304, 305, 306, 307, 308, 309, 310, 311, 312, 313, 314, 315, 316,\n",
       "       317, 318, 319, 320, 321, 322, 323, 324, 325, 326, 327, 328, 329,\n",
       "       330, 331, 332, 333, 334, 335, 336, 337, 338, 339, 340, 341, 342,\n",
       "       343, 344, 345, 346, 347, 348, 349, 350, 351, 352, 353, 354, 355,\n",
       "       356, 357, 358, 359, 360, 361, 362, 363, 364, 365, 366, 367, 368,\n",
       "       369, 370, 371, 372, 373, 374, 375, 376, 377, 378, 379, 380, 381,\n",
       "       382, 383, 384, 385, 386, 387, 388, 389, 390, 391, 392, 393, 394,\n",
       "       395, 396, 397, 398, 399, 400, 401, 402, 403, 404, 405, 406, 407,\n",
       "       408, 409, 410, 411, 412, 413, 414, 415, 416, 417, 418, 419, 420,\n",
       "       421, 422, 423, 424, 425, 426, 427, 428, 429, 430, 431, 432, 433,\n",
       "       434, 435, 436, 437, 438, 439, 440, 441, 442, 443, 444, 445, 446,\n",
       "       447, 448, 449, 450, 451, 452, 453, 454, 455, 456, 457, 458, 459,\n",
       "       460, 461, 462, 463, 464, 465, 466, 467, 468, 469, 470, 471, 472,\n",
       "       473, 474, 475, 476, 477, 478, 479, 480, 481, 482, 483, 484, 485,\n",
       "       486, 487, 488, 489, 490, 491, 492, 493, 494, 495, 496, 497, 498,\n",
       "       499, 500, 501, 502, 503, 504, 505, 506, 507, 508, 509, 510, 511,\n",
       "       512, 513, 514, 515, 516, 517, 518, 519, 520, 521, 522, 523, 524,\n",
       "       525, 526, 527, 528, 529, 530, 531, 532, 533, 534, 535, 536, 537,\n",
       "       538, 539, 540, 541, 542, 543, 544, 545, 546, 547, 548, 549, 550,\n",
       "       551, 552, 553, 554, 555, 556, 557, 558, 559, 560, 561, 562, 563,\n",
       "       564, 565, 566, 567, 568, 569, 570, 571, 572, 573, 574, 575, 576,\n",
       "       577, 578, 579, 580, 581, 582, 583, 584, 585, 586, 587, 588, 589,\n",
       "       590, 591, 592, 593, 594, 595, 596, 597, 598, 599, 600, 601, 602,\n",
       "       603, 604, 605, 606, 607, 608, 609, 610, 611, 612, 613, 614, 615,\n",
       "       616, 617, 618, 619, 620, 621, 622, 623, 624, 625, 626, 627, 628,\n",
       "       629, 630, 631, 632, 633, 634, 635, 636, 637, 638, 639, 640, 641,\n",
       "       642, 643, 644, 645, 646, 647, 648, 649, 650, 651, 652, 653, 654,\n",
       "       655, 656, 657, 658, 659, 660, 661, 662, 663, 664, 665, 666, 667,\n",
       "       668, 669, 670, 671, 672, 673, 674, 675, 676, 677, 678, 679, 680,\n",
       "       681, 682, 683, 684, 685, 686, 687, 688, 689, 690, 691, 692, 693,\n",
       "       694, 695, 696, 697, 698, 699, 700, 701, 702, 703, 704, 705, 706,\n",
       "       707, 708, 709, 710, 711, 712, 713, 714, 715, 716, 717, 718, 719,\n",
       "       720, 721, 722, 723, 724, 725, 726, 727, 728, 729, 730, 731, 732,\n",
       "       733, 734, 735, 736, 737, 738, 739, 740, 741, 742, 743, 744, 745,\n",
       "       746, 747, 748, 749])"
      ]
     },
     "execution_count": 5,
     "metadata": {},
     "output_type": "execute_result"
    }
   ],
   "source": [
    "isis+200"
   ]
  },
  {
   "cell_type": "code",
   "execution_count": 6,
   "id": "bdd55a05",
   "metadata": {},
   "outputs": [
    {
     "data": {
      "text/plain": [
       "1"
      ]
     },
     "execution_count": 6,
     "metadata": {},
     "output_type": "execute_result"
    }
   ],
   "source": [
    "arg_is_close(0.11,freqs)"
   ]
  },
  {
   "cell_type": "code",
   "execution_count": 7,
   "id": "e3999e77",
   "metadata": {},
   "outputs": [
    {
     "data": {
      "text/plain": [
       "array([0.1 , 0.11, 0.12, 0.13, 0.14, 0.15, 0.16, 0.17, 0.18, 0.19, 0.2 ,\n",
       "       0.21, 0.22, 0.23, 0.24, 0.25, 0.26, 0.27, 0.28, 0.29, 0.3 , 0.31,\n",
       "       0.32, 0.33, 0.34, 0.35, 0.36, 0.37, 0.38, 0.39, 0.4 , 0.41, 0.42,\n",
       "       0.43, 0.44, 0.45, 0.46, 0.47, 0.48, 0.49, 0.5 , 0.51, 0.52, 0.53,\n",
       "       0.54, 0.55, 0.56, 0.57, 0.58, 0.59, 0.6 , 0.61, 0.62, 0.63, 0.64,\n",
       "       0.65, 0.66, 0.67, 0.68, 0.69, 0.7 , 0.71, 0.72, 0.73, 0.74, 0.75,\n",
       "       0.76, 0.77, 0.78, 0.79, 0.8 , 0.81, 0.82, 0.83, 0.84, 0.85, 0.86,\n",
       "       0.87, 0.88, 0.89, 0.9 , 0.91, 0.92, 0.93, 0.94, 0.95, 0.96, 0.97,\n",
       "       0.98, 0.99, 1.  , 1.01, 1.02, 1.03, 1.04, 1.05, 1.06, 1.07, 1.08,\n",
       "       1.09, 1.1 , 1.11, 1.12, 1.13, 1.14, 1.15, 1.16, 1.17, 1.18, 1.19,\n",
       "       1.2 , 1.21, 1.22, 1.23, 1.24, 1.25, 1.26, 1.27, 1.28, 1.29, 1.3 ,\n",
       "       1.31, 1.32, 1.33, 1.34, 1.35, 1.36, 1.37, 1.38, 1.39, 1.4 , 1.41,\n",
       "       1.42, 1.43, 1.44, 1.45, 1.46, 1.47, 1.48, 1.49, 1.5 , 1.51, 1.52,\n",
       "       1.53, 1.54, 1.55, 1.56, 1.57, 1.58, 1.59, 1.6 , 1.61, 1.62, 1.63,\n",
       "       1.64, 1.65, 1.66, 1.67, 1.68, 1.69, 1.7 , 1.71, 1.72, 1.73, 1.74,\n",
       "       1.75, 1.76, 1.77, 1.78, 1.79, 1.8 , 1.81, 1.82, 1.83, 1.84, 1.85,\n",
       "       1.86, 1.87, 1.88, 1.89, 1.9 , 1.91, 1.92, 1.93, 1.94, 1.95, 1.96,\n",
       "       1.97, 1.98, 1.99, 2.  , 2.01, 2.02, 2.03, 2.04, 2.05, 2.06, 2.07,\n",
       "       2.08, 2.09, 2.1 , 2.11, 2.12, 2.13, 2.14, 2.15, 2.16, 2.17, 2.18,\n",
       "       2.19, 2.2 , 2.21, 2.22, 2.23, 2.24, 2.25, 2.26, 2.27, 2.28, 2.29,\n",
       "       2.3 , 2.31, 2.32, 2.33, 2.34, 2.35, 2.36, 2.37, 2.38, 2.39, 2.4 ,\n",
       "       2.41, 2.42, 2.43, 2.44, 2.45, 2.46, 2.47, 2.48, 2.49, 2.5 , 2.51,\n",
       "       2.52, 2.53, 2.54, 2.55, 2.56, 2.57, 2.58, 2.59, 2.6 , 2.61, 2.62,\n",
       "       2.63, 2.64, 2.65, 2.66, 2.67, 2.68, 2.69, 2.7 , 2.71, 2.72, 2.73,\n",
       "       2.74, 2.75, 2.76, 2.77, 2.78, 2.79, 2.8 , 2.81, 2.82, 2.83, 2.84,\n",
       "       2.85, 2.86, 2.87, 2.88, 2.89, 2.9 , 2.91, 2.92, 2.93, 2.94, 2.95,\n",
       "       2.96, 2.97, 2.98, 2.99, 3.  , 3.01, 3.02, 3.03, 3.04, 3.05, 3.06,\n",
       "       3.07, 3.08, 3.09, 3.1 , 3.11, 3.12, 3.13, 3.14, 3.15, 3.16, 3.17,\n",
       "       3.18, 3.19, 3.2 , 3.21, 3.22, 3.23, 3.24, 3.25, 3.26, 3.27, 3.28,\n",
       "       3.29, 3.3 , 3.31, 3.32, 3.33, 3.34, 3.35, 3.36, 3.37, 3.38, 3.39,\n",
       "       3.4 , 3.41, 3.42, 3.43, 3.44, 3.45, 3.46, 3.47, 3.48, 3.49, 3.5 ,\n",
       "       3.51, 3.52, 3.53, 3.54, 3.55, 3.56, 3.57, 3.58, 3.59, 3.6 , 3.61,\n",
       "       3.62, 3.63, 3.64, 3.65, 3.66, 3.67, 3.68, 3.69, 3.7 , 3.71, 3.72,\n",
       "       3.73, 3.74, 3.75, 3.76, 3.77, 3.78, 3.79, 3.8 , 3.81, 3.82, 3.83,\n",
       "       3.84, 3.85, 3.86, 3.87, 3.88, 3.89, 3.9 , 3.91, 3.92, 3.93, 3.94,\n",
       "       3.95, 3.96, 3.97, 3.98, 3.99, 4.  , 4.01, 4.02, 4.03, 4.04, 4.05,\n",
       "       4.06, 4.07, 4.08, 4.09, 4.1 , 4.11, 4.12, 4.13, 4.14, 4.15, 4.16,\n",
       "       4.17, 4.18, 4.19, 4.2 , 4.21, 4.22, 4.23, 4.24, 4.25, 4.26, 4.27,\n",
       "       4.28, 4.29, 4.3 , 4.31, 4.32, 4.33, 4.34, 4.35, 4.36, 4.37, 4.38,\n",
       "       4.39, 4.4 , 4.41, 4.42, 4.43, 4.44, 4.45, 4.46, 4.47, 4.48, 4.49,\n",
       "       4.5 , 4.51, 4.52, 4.53, 4.54, 4.55, 4.56, 4.57, 4.58, 4.59, 4.6 ,\n",
       "       4.61, 4.62, 4.63, 4.64, 4.65, 4.66, 4.67, 4.68, 4.69, 4.7 , 4.71,\n",
       "       4.72, 4.73, 4.74, 4.75, 4.76, 4.77, 4.78, 4.79, 4.8 , 4.81, 4.82,\n",
       "       4.83, 4.84, 4.85, 4.86, 4.87, 4.88, 4.89, 4.9 , 4.91, 4.92, 4.93,\n",
       "       4.94, 4.95, 4.96, 4.97, 4.98, 4.99, 5.  , 5.01, 5.02, 5.03, 5.04,\n",
       "       5.05, 5.06, 5.07, 5.08, 5.09, 5.1 , 5.11, 5.12, 5.13, 5.14, 5.15,\n",
       "       5.16, 5.17, 5.18, 5.19, 5.2 , 5.21, 5.22, 5.23, 5.24, 5.25, 5.26,\n",
       "       5.27, 5.28, 5.29, 5.3 , 5.31, 5.32, 5.33, 5.34, 5.35, 5.36, 5.37,\n",
       "       5.38, 5.39, 5.4 , 5.41, 5.42, 5.43, 5.44, 5.45, 5.46, 5.47, 5.48,\n",
       "       5.49, 5.5 , 5.51, 5.52, 5.53, 5.54, 5.55, 5.56, 5.57, 5.58, 5.59,\n",
       "       5.6 , 5.61, 5.62, 5.63, 5.64, 5.65, 5.66, 5.67, 5.68, 5.69, 5.7 ,\n",
       "       5.71, 5.72, 5.73, 5.74, 5.75, 5.76, 5.77, 5.78, 5.79, 5.8 , 5.81,\n",
       "       5.82, 5.83, 5.84, 5.85, 5.86, 5.87, 5.88, 5.89, 5.9 , 5.91, 5.92,\n",
       "       5.93, 5.94, 5.95, 5.96, 5.97, 5.98, 5.99, 6.  , 6.01, 6.02, 6.03,\n",
       "       6.04, 6.05, 6.06, 6.07, 6.08, 6.09, 6.1 , 6.11, 6.12, 6.13, 6.14,\n",
       "       6.15, 6.16, 6.17, 6.18, 6.19, 6.2 , 6.21, 6.22, 6.23, 6.24, 6.25,\n",
       "       6.26, 6.27, 6.28, 6.29, 6.3 , 6.31, 6.32, 6.33, 6.34, 6.35, 6.36,\n",
       "       6.37, 6.38, 6.39, 6.4 , 6.41, 6.42, 6.43, 6.44, 6.45, 6.46, 6.47,\n",
       "       6.48, 6.49, 6.5 , 6.51, 6.52, 6.53, 6.54, 6.55, 6.56, 6.57, 6.58,\n",
       "       6.59, 6.6 , 6.61, 6.62, 6.63, 6.64, 6.65, 6.66, 6.67, 6.68, 6.69,\n",
       "       6.7 , 6.71, 6.72, 6.73, 6.74, 6.75, 6.76, 6.77, 6.78, 6.79, 6.8 ,\n",
       "       6.81, 6.82, 6.83, 6.84, 6.85, 6.86, 6.87, 6.88, 6.89, 6.9 , 6.91,\n",
       "       6.92, 6.93, 6.94, 6.95, 6.96, 6.97, 6.98, 6.99, 7.  , 7.01, 7.02,\n",
       "       7.03, 7.04, 7.05, 7.06, 7.07, 7.08, 7.09, 7.1 , 7.11, 7.12, 7.13,\n",
       "       7.14, 7.15, 7.16, 7.17, 7.18, 7.19, 7.2 , 7.21, 7.22, 7.23, 7.24,\n",
       "       7.25, 7.26, 7.27, 7.28, 7.29, 7.3 , 7.31, 7.32, 7.33, 7.34, 7.35,\n",
       "       7.36, 7.37, 7.38, 7.39, 7.4 , 7.41, 7.42, 7.43, 7.44, 7.45, 7.46,\n",
       "       7.47, 7.48, 7.49, 7.5 , 7.51, 7.52, 7.53, 7.54, 7.55, 7.56, 7.57,\n",
       "       7.58, 7.59, 7.6 , 7.61, 7.62, 7.63, 7.64, 7.65, 7.66, 7.67, 7.68,\n",
       "       7.69, 7.7 , 7.71, 7.72, 7.73, 7.74, 7.75, 7.76, 7.77, 7.78, 7.79,\n",
       "       7.8 , 7.81, 7.82, 7.83, 7.84, 7.85, 7.86, 7.87, 7.88, 7.89, 7.9 ,\n",
       "       7.91, 7.92, 7.93, 7.94, 7.95, 7.96, 7.97, 7.98, 7.99, 8.  , 8.01,\n",
       "       8.02, 8.03, 8.04, 8.05, 8.06, 8.07, 8.08, 8.09, 8.1 , 8.11, 8.12,\n",
       "       8.13, 8.14, 8.15, 8.16, 8.17, 8.18, 8.19, 8.2 , 8.21, 8.22, 8.23,\n",
       "       8.24, 8.25, 8.26, 8.27, 8.28, 8.29, 8.3 , 8.31, 8.32, 8.33, 8.34,\n",
       "       8.35, 8.36, 8.37, 8.38, 8.39, 8.4 , 8.41, 8.42, 8.43, 8.44, 8.45,\n",
       "       8.46, 8.47, 8.48, 8.49, 8.5 , 8.51, 8.52, 8.53, 8.54, 8.55, 8.56,\n",
       "       8.57, 8.58, 8.59, 8.6 , 8.61, 8.62, 8.63, 8.64, 8.65, 8.66, 8.67,\n",
       "       8.68, 8.69, 8.7 , 8.71, 8.72, 8.73, 8.74, 8.75, 8.76, 8.77, 8.78,\n",
       "       8.79, 8.8 , 8.81, 8.82, 8.83, 8.84, 8.85, 8.86, 8.87, 8.88, 8.89,\n",
       "       8.9 , 8.91, 8.92, 8.93, 8.94, 8.95, 8.96, 8.97, 8.98, 8.99, 9.  ,\n",
       "       9.01, 9.02, 9.03, 9.04, 9.05, 9.06, 9.07, 9.08, 9.09, 9.1 , 9.11,\n",
       "       9.12, 9.13, 9.14, 9.15, 9.16, 9.17, 9.18, 9.19, 9.2 , 9.21, 9.22,\n",
       "       9.23, 9.24, 9.25, 9.26, 9.27, 9.28, 9.29, 9.3 , 9.31, 9.32, 9.33,\n",
       "       9.34, 9.35, 9.36, 9.37, 9.38, 9.39, 9.4 , 9.41, 9.42, 9.43, 9.44,\n",
       "       9.45, 9.46, 9.47, 9.48, 9.49, 9.5 , 9.51, 9.52, 9.53, 9.54, 9.55,\n",
       "       9.56, 9.57, 9.58, 9.59, 9.6 , 9.61, 9.62, 9.63, 9.64, 9.65, 9.66,\n",
       "       9.67, 9.68, 9.69, 9.7 , 9.71, 9.72, 9.73, 9.74, 9.75, 9.76, 9.77,\n",
       "       9.78, 9.79, 9.8 , 9.81, 9.82, 9.83, 9.84, 9.85, 9.86, 9.87, 9.88,\n",
       "       9.89, 9.9 , 9.91, 9.92, 9.93, 9.94, 9.95, 9.96, 9.97, 9.98, 9.99])"
      ]
     },
     "execution_count": 7,
     "metadata": {},
     "output_type": "execute_result"
    }
   ],
   "source": []
  },
  {
   "cell_type": "code",
   "execution_count": 36,
   "id": "1bdb318c",
   "metadata": {},
   "outputs": [],
   "source": [
    "dat = [[] for _ in range(120)]\n",
    "dat[2].append(3)"
   ]
  },
  {
   "cell_type": "code",
   "execution_count": 38,
   "id": "3186f21e",
   "metadata": {},
   "outputs": [
    {
     "data": {
      "text/plain": [
       "3"
      ]
     },
     "execution_count": 38,
     "metadata": {},
     "output_type": "execute_result"
    }
   ],
   "source": [
    "dat[2][0]"
   ]
  },
  {
   "cell_type": "code",
   "execution_count": 51,
   "id": "c5ce36aa",
   "metadata": {},
   "outputs": [
    {
     "data": {
      "text/plain": [
       "<matplotlib.lines.Line2D at 0x166c10070>"
      ]
     },
     "execution_count": 51,
     "metadata": {},
     "output_type": "execute_result"
    },
    {
     "data": {
      "image/png": "[encoded data removed]",
      "text/plain": [
       "<Figure size 640x480 with 1 Axes>"
      ]
     },
     "metadata": {},
     "output_type": "display_data"
    }
   ],
   "source": [
    "isi = 0.4\n",
    "for i in range(20):\n",
    "    plt.scatter(i/(isi*3),isi,color='purple')\n",
    "for i in range(20):\n",
    "    plt.scatter(i/(isi*2),isi,color='pink')\n",
    "for i in range(20):\n",
    "    plt.scatter(i/(isi*1),isi,color='yellow')\n",
    "plt.xlim(3,5)\n",
    "plt.axvline(3.73)"
   ]
  }
 ],
 "metadata": {
  "kernelspec": {
   "display_name": "Python 3 (ipykernel)",
   "language": "python",
   "name": "python3"
  },
  "language_info": {
   "codemirror_mode": {
    "name": "ipython",
    "version": 3
   },
   "file_extension": ".py",
   "mimetype": "text/x-python",
   "name": "python",
   "nbconvert_exporter": "python",
   "pygments_lexer": "ipython3",
   "version": "3.10.6"
  }
 },
 "nbformat": 4,
 "nbformat_minor": 5
}

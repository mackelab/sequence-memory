{
 "cells": [
  {
   "cell_type": "code",
   "execution_count": null,
   "metadata": {},
   "outputs": [],
   "source": [
    "import numpy as np\n",
    "from itertools import permutations\n",
    "import matplotlib.pyplot as plt\n",
    "import matplotlib.pyplot as mpl\n",
    "import scipy.io\n",
    "import sys\n",
    "sys.path.insert(0,'..')\n",
    "from analysis.analysis_utils import *\n",
    "%matplotlib inline"
   ]
  },
  {
   "cell_type": "markdown",
   "metadata": {},
   "source": [
    "## Load data"
   ]
  },
  {
   "cell_type": "code",
   "execution_count": null,
   "metadata": {},
   "outputs": [],
   "source": [
    "my_data = scipy.io.loadmat('../data/dataphaseorder_selunitsvex.mat')\n",
    "my_data = my_data['matrix']\n",
    "freqs = [1.5, 1.75, 2.04, 2.37, 2.75, 3.21, 3.73, 4.35, 5.06, 5.90, 6.87, 8]\n",
    "pltcolors, pltcolors_alt = steffiscolours()\n"
   ]
  },
  {
   "cell_type": "code",
   "execution_count": null,
   "metadata": {
    "scrolled": true
   },
   "outputs": [],
   "source": [
    "plt.scatter(np.arange(len(my_data)),my_data[:,0], \n",
    "            color = pltcolors_alt[-1])\n",
    "plt.ylabel(\"Freqs\")\n",
    "plt.xlabel(\"Neuron index\");\n",
    "print(\"Freqs from \" + str(np.min(my_data[:,0])) +\n",
    "      \" to \" + str(np.max(my_data[:,0])) + \" Hz\")"
   ]
  },
  {
   "cell_type": "markdown",
   "metadata": {},
   "source": [
    "## Predictions"
   ]
  },
  {
   "cell_type": "code",
   "execution_count": null,
   "metadata": {},
   "outputs": [],
   "source": [
    "#Create ground truth\n",
    "#---------------------\n",
    "\n",
    "#0: (3, 1, 2)\n",
    "#1: (1, 3, 2)\n",
    "#2: (3, 2, 1)\n",
    "#3: (2, 3, 1)\n",
    "#4: (1, 2, 3)\n",
    "#5: (2, 1, 3)\n",
    "\n",
    "perms =[[3,1,2],[1,3,2],[3,2,1],[2,3,1],[1,2,3],[2,1,3]]\n",
    "\n",
    "\n",
    "#First frequency slots:\n",
    "#(1.25, 1.67) : 5: (2, 1, 3)\n",
    "#(1.67, 2.50) : 2: (3, 2, 1)\n",
    "#(2.50, 3.33) : 4: (1, 2, 3)\n",
    "#(3.33, 3.75) : 0: (3, 1, 2)\n",
    "\n",
    "orders = np.array([5,2,4,0])\n",
    "\n",
    "fmin =1\n",
    "fmax = 9\n",
    "\n",
    "#Transition between orders at solutions of:\n",
    "#e^(i2pi isi f) = 0\n",
    "#e^(i4pi isi f) = 0\n",
    "#e^(i6pi isi f) = 0\n",
    "\n",
    "boundaries = []\n",
    "for i in range(1,int(np.ceil(fmax/0.4))):\n",
    "    boundaries.append(i*1/0.4)\n",
    "    boundaries.append(i*1/0.8)\n",
    "    boundaries.append(i*1/1.2)\n",
    "    \n",
    "#find unique solutions within range and sort them    \n",
    "boundaries = np.sort(np.unique(boundaries))\n",
    "boundaries = boundaries[boundaries<fmax]\n",
    "boundaries = boundaries[boundaries>fmin]\n",
    "print(boundaries)\n",
    "\n",
    "#make prediction matrix\n",
    "prediction = np.zeros((len(boundaries)-1,6))\n",
    "for i in range(len(boundaries)-1):\n",
    "    prediction[i,orders[i%4]]=1"
   ]
  },
  {
   "cell_type": "code",
   "execution_count": null,
   "metadata": {},
   "outputs": [],
   "source": [
    "labels = [\"{:.2f}\".format(boundaries[i]).strip(\"0\")for i in np.arange(len(boundaries))[::2]]\n",
    "\n",
    "plt.imshow(prediction.T,origin='lower')\n",
    "plt.xticks(np.arange(len(boundaries))[::2]-0.5, labels = labels);\n",
    "plt.yticks(np.arange(6), labels = perms);\n"
   ]
  },
  {
   "cell_type": "markdown",
   "metadata": {},
   "source": [
    "## Phase order in data"
   ]
  },
  {
   "cell_type": "code",
   "execution_count": null,
   "metadata": {},
   "outputs": [],
   "source": [
    "# Calculate circ shifted order of phases in data\n",
    "data = np.zeros((len(boundaries)-1,6))\n",
    "num_neurons = len(my_data)\n",
    "\n",
    "for neuron in range(num_neurons):\n",
    "    for i in range(len(boundaries)-1):\n",
    "        if my_data[neuron,0]>boundaries[i] and my_data[neuron,0]<boundaries[i+1]:\n",
    "            avgs = my_data[neuron,1:]\n",
    "            #Set position 0 to be first in phase\n",
    "            avgs -= avgs[0]\n",
    "            #Circularly shift the neurons that now have a negative position\n",
    "            avgs[avgs < 0] += 4\n",
    "            for permi, perm in enumerate(perms):\n",
    "                if (avgs[1:] == np.array(perm)).all():\n",
    "                    data[i,permi]+=1\n",
    "\n",
    "plt.imshow(data.T,origin='lower')\n",
    "plt.xticks(np.arange(len(boundaries-1))[::2]-0.5, labels = labels);\n",
    "pred = np.sum((data*prediction))/np.sum(data)"
   ]
  },
  {
   "cell_type": "markdown",
   "metadata": {},
   "source": [
    "## Compare predictions of data to permutation"
   ]
  },
  {
   "cell_type": "code",
   "execution_count": null,
   "metadata": {
    "scrolled": true
   },
   "outputs": [],
   "source": [
    "scores= []\n",
    "pred_perc = 0\n",
    "num_trials = 10000\n",
    "fk_data = np.copy(my_data)\n",
    "ind =np.arange(len(my_data))\n",
    "num_neurons = len(my_data)\n",
    "\n",
    "for i in range(num_trials):\n",
    "    if i%1000==0:\n",
    "        print(str(i/num_trials*100) + \"%\")\n",
    "    np.random.shuffle(ind)\n",
    "    fk_data[:,0]=fk_data[ind,0]\n",
    "    data = np.zeros((len(boundaries)-1,6))\n",
    "    for neuron in range(num_neurons):\n",
    "        for i in range(len(boundaries)-1):\n",
    "            if fk_data[neuron,0]>boundaries[i] and fk_data[neuron,0]<boundaries[i+1]:\n",
    "                avgs = fk_data[neuron,1:]\n",
    "                #Set position 0 to be first in phase\n",
    "                avgs -= avgs[0]\n",
    "                #Circularly shift the neurons that now have a negative phase\n",
    "                avgs[avgs < 0] += 4\n",
    "                for permi, perm in enumerate(perms):\n",
    "                    if (avgs[1:] == np.array(perm)).all():\n",
    "                        data[i,permi]+=1\n",
    "\n",
    "    score=np.sum((data*prediction))/np.sum(data)\n",
    "    scores.append(score)\n",
    "    if score>pred:\n",
    "        pred_perc += 1\n",
    "pred_perc/=num_trials\n",
    "print(pred_perc)\n",
    "scores = np.array(scores)"
   ]
  },
  {
   "cell_type": "code",
   "execution_count": null,
   "metadata": {
    "scrolled": true
   },
   "outputs": [],
   "source": [
    "with mpl.rc_context(fname=\"matplotlibrc\"):\n",
    "    plt.figure(figsize = (1.5,1.5))\n",
    "    plt.hist(np.array(scores), bins = 24, color = pltcolors_alt[1], label ='permutations')\n",
    "    plt.axvline(pred, color ='black', label ='data')\n",
    "    plt.ylabel(\"counts\")\n",
    "    plt.xlabel(\"prop. predicted correctly\")\n",
    "    plt.xticks(np.arange(0,4/12,1/12), \n",
    "               labels = [\"{:.2f}\".format(np.arange(0,4/12,1/12)[i]) for i in range(len(np.arange(0,4/12,1/12)))])\n",
    "    plt.legend(bbox_to_anchor = (0.9,1.1))"
   ]
  }
 ],
 "metadata": {
  "kernelspec": {
   "display_name": "Python 3 (ipykernel)",
   "language": "python",
   "name": "python3"
  },
  "language_info": {
   "codemirror_mode": {
    "name": "ipython",
    "version": 3
   },
   "file_extension": ".py",
   "mimetype": "text/x-python",
   "name": "python",
   "nbconvert_exporter": "python",
   "pygments_lexer": "ipython3",
   "version": "3.9.18"
  },
  "toc": {
   "base_numbering": 1,
   "nav_menu": {},
   "number_sections": true,
   "sideBar": true,
   "skip_h1_title": false,
   "title_cell": "Table of Contents",
   "title_sidebar": "Contents",
   "toc_cell": false,
   "toc_position": {},
   "toc_section_display": true,
   "toc_window_display": false
  },
  "vscode": {
   "interpreter": {
    "hash": "b2f646de90d36ac1af8282d42c04cf1293104642c9a34194a4bf0e014a244cf4"
   }
  }
 },
 "nbformat": 4,
 "nbformat_minor": 4
}

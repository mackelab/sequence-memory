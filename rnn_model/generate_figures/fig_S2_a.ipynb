{
 "cells": [
  {
   "cell_type": "code",
   "execution_count": 8,
   "id": "96af8460",
   "metadata": {},
   "outputs": [],
   "source": [
    "import os, sys\n",
    "import numpy as np\n",
    "import scipy\n",
    "import matplotlib as mpl\n",
    "import matplotlib.pyplot as plt\n",
    "from matplotlib.colors import colorConverter as cc\n",
    "\n",
    "%matplotlib inline\n",
    "\n",
    "sys.path.insert(0,'..')\n",
    "from analysis.analysis_utils import *\n"
   ]
  },
  {
   "cell_type": "markdown",
   "id": "b4fbd588",
   "metadata": {},
   "source": [
    "### extract data from trained models"
   ]
  },
  {
   "cell_type": "code",
   "execution_count": 9,
   "id": "f16c5064",
   "metadata": {
    "scrolled": false
   },
   "outputs": [
    {
     "name": "stdout",
     "output_type": "stream",
     "text": [
      "FREQUENCY = 2.04\n",
      "1\n",
      "duration = 949\n",
      "FREQUENCY = 2.04\n",
      "1\n",
      "duration = 1810\n",
      "FREQUENCY = 2.75\n",
      "2\n",
      "duration = 1918\n",
      "FREQUENCY = 2.75\n",
      "2\n",
      "duration = 627\n",
      "FREQUENCY = 2.04\n",
      "1\n",
      "duration = 308\n",
      "FREQUENCY = 1.5\n",
      "0\n",
      "duration = 811\n",
      "FREQUENCY = 1.5\n",
      "0\n",
      "duration = 1019\n",
      "FREQUENCY = 2.04\n",
      "1\n",
      "duration = 1572\n",
      "FREQUENCY = 2.75\n",
      "2\n",
      "duration = 247\n",
      "FREQUENCY = 3.73\n",
      "3\n",
      "duration = 689\n",
      "FREQUENCY = 1.5\n",
      "0\n",
      "duration = 2856\n",
      "FREQUENCY = 2.04\n",
      "1\n",
      "duration = 896\n",
      "FREQUENCY = 3.73\n",
      "3\n",
      "duration = 1868\n",
      "FREQUENCY = 2.04\n",
      "1\n",
      "duration = 745\n",
      "FREQUENCY = 2.04\n",
      "1\n",
      "duration = 1587\n",
      "FREQUENCY = 3.73\n",
      "3\n",
      "duration = 6001\n",
      "FREQUENCY = 3.73\n",
      "3\n",
      "duration = 7655\n",
      "FREQUENCY = 2.75\n",
      "2\n",
      "duration = 389\n",
      "FREQUENCY = 3.73\n",
      "3\n",
      "duration = 831\n",
      "FREQUENCY = 1.5\n",
      "0\n",
      "duration = 605\n",
      "FREQUENCY = 1.5\n",
      "0\n",
      "duration = 575\n",
      "FREQUENCY = 2.75\n",
      "2\n",
      "duration = 500\n",
      "FREQUENCY = 3.73\n",
      "3\n",
      "duration = 2274\n",
      "FREQUENCY = 2.75\n",
      "2\n",
      "duration = 3222\n",
      "FREQUENCY = 3.73\n",
      "3\n",
      "duration = 2874\n",
      "FREQUENCY = 3.73\n",
      "3\n",
      "duration = 354\n",
      "FREQUENCY = 1.5\n",
      "0\n",
      "duration = 3084\n",
      "FREQUENCY = 2.75\n",
      "2\n",
      "duration = 2411\n",
      "FREQUENCY = 3.73\n",
      "3\n",
      "duration = 6833\n",
      "FREQUENCY = 1.5\n",
      "0\n",
      "duration = 414\n",
      "FREQUENCY = 2.75\n",
      "2\n",
      "duration = 3810\n",
      "FREQUENCY = 2.04\n",
      "1\n",
      "duration = 1152\n",
      "FREQUENCY = 2.04\n",
      "1\n",
      "duration = 1086\n",
      "FREQUENCY = 3.73\n",
      "3\n",
      "duration = 3468\n",
      "FREQUENCY = 1.5\n",
      "0\n",
      "duration = 1178\n",
      "FREQUENCY = 2.04\n",
      "1\n",
      "duration = 3753\n",
      "FREQUENCY = 1.5\n",
      "0\n",
      "duration = 1442\n",
      "FREQUENCY = 2.75\n",
      "2\n",
      "duration = 253\n",
      "FREQUENCY = 2.75\n",
      "2\n",
      "duration = 713\n",
      "FREQUENCY = 1.5\n",
      "0\n",
      "duration = 1108\n"
     ]
    }
   ],
   "source": [
    "mod_dir = os.getcwd()+\"/../models/sweep_main\"\n",
    "files_and_directories = os.listdir(mod_dir)\n",
    "\n",
    "\n",
    "freqs = np.array([1.5,2.04,2.75,3.73])\n",
    "training_dur = [[] for i in range(4)]\n",
    "for findex, fname in enumerate(files_and_directories):\n",
    "    \n",
    "    \n",
    "    \"\"\"Load Model\"\"\"\n",
    "    model_dir = os.path.join(mod_dir, fname)\n",
    "\n",
    "    if model_dir[-3:] != 'ore':\n",
    "        var = scipy.io.loadmat(model_dir)\n",
    "        f=var['lossF'][0][0]\n",
    "        print(\"FREQUENCY = \" + str(f))\n",
    "        ind=np.argwhere(f==freqs)[0][0]\n",
    "        print(ind)\n",
    "        dur=len(var['train_perf_list'])\n",
    "\n",
    "        print(\"duration = \" + str(dur))\n",
    "\n",
    "\n",
    "        training_dur[ind].append(dur)"
   ]
  },
  {
   "cell_type": "markdown",
   "id": "9e367b62",
   "metadata": {},
   "source": [
    "### Calculate means and standard errors of training durations"
   ]
  },
  {
   "cell_type": "code",
   "execution_count": 10,
   "id": "b35987b1",
   "metadata": {},
   "outputs": [],
   "source": [
    "mean_tr = np.mean(np.array(training_dur)*100, axis=1)\n",
    "sem_tr = np.std(np.array(training_dur)*100, axis=1)/np.sqrt(10)"
   ]
  },
  {
   "cell_type": "markdown",
   "id": "1197c670",
   "metadata": {},
   "source": [
    "### Make plot"
   ]
  },
  {
   "cell_type": "code",
   "execution_count": 12,
   "id": "fb34f208",
   "metadata": {},
   "outputs": [
    {
     "data": {
      "image/png": "[encoded data removed]",
      "text/plain": [
       "<Figure size 150x150 with 2 Axes>"
      ]
     },
     "metadata": {},
     "output_type": "display_data"
    }
   ],
   "source": [
    "# Box plot version\n",
    "pltcolors, pltcolors_alt = steffiscolours()\n",
    "\n",
    "with mpl.rc_context(fname=\"matplotlibrc\"):\n",
    "    plt.subplots(figsize=(1.5, 1.5))\n",
    "\n",
    "\n",
    "    ax1 = plt.subplot(111, facecolor=\"white\") \n",
    "    c = pltcolors_alt[1]\n",
    "    alpha = 0.4\n",
    "    ax1.boxplot(np.array(training_dur).T*100, widths =.6, patch_artist=True,\n",
    "                            boxprops=dict(facecolor=cc.to_rgba(c, alpha=alpha), color=c),\n",
    "                            capprops=dict(color=c),\n",
    "                            whiskerprops=dict(color=c),\n",
    "                            medianprops=dict(color=c),\n",
    "                            flierprops={'marker': 'o', 'markersize': 2, 'markerfacecolor':c, 'markeredgecolor':c})\n",
    "   \n",
    "    ax1.set_ylim(0)\n",
    "    ax1.set_yticks(np.arange(0,900000,200000))\n",
    "    labs = [str(i) + r\"$\\times 10^5$\" for i in np.arange(0,9,2)]\n",
    "    labs[0]=str(0)\n",
    "    ax1.set_yticklabels(labs)\n",
    "\n",
    "\n",
    "\n",
    "    ax1.set_xticks(np.arange(4)+1)\n",
    "    plt.xticks(rotation=35)\n",
    "\n",
    "    ax1.set_xticklabels([str(fr) for fr in freqs])\n",
    "    ax1.set_ylabel(\"number of batches\")\n",
    "    ax1.set_xlabel(\"frequency (Hz)\")\n",
    "plt.savefig(\"../figures/S2a.svg\")\n",
    "\n"
   ]
  },
  {
   "cell_type": "code",
   "execution_count": 14,
   "id": "705e365f",
   "metadata": {},
   "outputs": [
    {
     "data": {
      "image/png": "[encoded data removed]",
      "text/plain": [
       "<Figure size 200x200 with 2 Axes>"
      ]
     },
     "metadata": {},
     "output_type": "display_data"
    }
   ],
   "source": [
    "# Bar version\n",
    "\n",
    "with mpl.rc_context(fname=\"matplotlibrc\"):\n",
    "    plt.subplots(figsize=(2, 2))\n",
    "\n",
    "\n",
    "    ax1 = plt.subplot(111, facecolor=\"white\")  # , projection='polar')\n",
    "    \n",
    "    ax1.bar(np.arange(4),mean_tr, color=pltcolors_alt[1],\n",
    "            yerr=sem_tr, \n",
    "            align='edge',  ecolor=pltcolors_alt[-1], capsize=4, label =['Freq: '+ str(freqs[i]) for i in range(4)])\n",
    "   \n",
    "    ax1.set_ylim(0)#, 35)\n",
    "    #ax1.set_xlim(0)#, 35)\n",
    "    ax1.set_yticks(np.arange(0,500000,100000))\n",
    "    labs = [str(i) + r\"$*10^5$\" for i in np.arange(0,5)]\n",
    "    labs[0]=str(0)\n",
    "    ax1.set_yticklabels(labs)\n",
    "\n",
    "\n",
    "\n",
    "    ax1.set_xticks(np.arange(4)+0.5)\n",
    "    plt.xticks(rotation=35)\n",
    "\n",
    "    ax1.set_xticklabels([str(fr) for fr in freqs])\n",
    "    ax1.set_ylabel(\"number of batches\")\n",
    "    ax1.set_xlabel(\"frequency (Hz)\")\n",
    "\n",
    "\n"
   ]
  },
  {
   "cell_type": "code",
   "execution_count": null,
   "id": "7ecdf622",
   "metadata": {},
   "outputs": [],
   "source": []
  },
  {
   "cell_type": "code",
   "execution_count": null,
   "id": "fb04921f",
   "metadata": {},
   "outputs": [],
   "source": []
  }
 ],
 "metadata": {
  "kernelspec": {
   "display_name": "Python 3 (ipykernel)",
   "language": "python",
   "name": "python3"
  },
  "language_info": {
   "codemirror_mode": {
    "name": "ipython",
    "version": 3
   },
   "file_extension": ".py",
   "mimetype": "text/x-python",
   "name": "python",
   "nbconvert_exporter": "python",
   "pygments_lexer": "ipython3",
   "version": "3.9.18"
  }
 },
 "nbformat": 4,
 "nbformat_minor": 5
}

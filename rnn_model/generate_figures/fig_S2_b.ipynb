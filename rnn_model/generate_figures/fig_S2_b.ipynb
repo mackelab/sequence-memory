{
 "cells": [
  {
   "cell_type": "code",
   "execution_count": null,
   "metadata": {},
   "outputs": [],
   "source": [
    "import os\n",
    "import sys\n",
    "sys.path.insert(0,'..')\n",
    "import numpy as np\n",
    "from analysis.tf_utils import *\n",
    "from analysis.analysis_utils import *\n",
    "import matplotlib.pyplot as plt\n",
    "from analysis.summary import run_summary\n",
    "%matplotlib inline"
   ]
  },
  {
   "cell_type": "markdown",
   "metadata": {},
   "source": [
    "# Experiment settings"
   ]
  },
  {
   "cell_type": "code",
   "execution_count": null,
   "metadata": {},
   "outputs": [],
   "source": [
    "base_dir = \"\"\n",
    "task_dir = \"datasweep_suppb.pkl\"\n",
    "\n",
    "\n",
    "summary_settings = {\n",
    "    \"upsample\" : 1, # Increase temporal resolution\n",
    "    \"ref_phase\" : \"sine\", # Reference phase for 'spike-phase' histogram, either sine or LFP\n",
    "    \"onlyGaba\" : False,  # Only use inhibitory neurons for calculating LFP\n",
    "    \"cutoff_p\": 10e-3, # For Wilc p test\n",
    "    \"normalize_fr_extract\":  True,  # Normalize extracted firing rates\n",
    "    \"n_trials\": 224,  # Number trials used in analysis\n",
    "    \"randomize_onset\": False, # Randomise stimulus onset\n",
    "    \"delay_ms\": 10000, # Delay time in ms\n",
    "    \"disable_noise\": False, # With or without noise\n",
    "    \"freqs_l\": np.logspace(*np.log10([0.33, 5]), num=60), # Frequencies for spectrograms\n",
    "    \"balance_trials\": True, # Draw trials with balanced proportion of each stimuli\n",
    "    \"substr_mean_LFP\": False, # Substract mean LFP\n",
    "    \"delay_buffer1\": 25, # Disregard short period after stimulus offset\n",
    "    \"delay_buffer2\": 25, # Disregard short period before probe onset\n",
    "    \"nbins\": 1, # Number of bins for 'spike' phase histograms\n",
    "    \"common_baseline\" : True, # Common baseline\n",
    "    \"freqs\": [] # Frequencies for vex plots\n",
    "}\n",
    "pltcolors, pltcolors_alt = steffiscolours()\n"
   ]
  },
  {
   "cell_type": "markdown",
   "metadata": {},
   "source": [
    "# Run or load summary over many models"
   ]
  },
  {
   "cell_type": "code",
   "execution_count": null,
   "metadata": {},
   "outputs": [],
   "source": [
    "#note that the accuracy here is bad, because of the long delay \n",
    "#period used for accurate power calculation\n",
    "\n",
    "model_dir = os.path.join(base_dir, \"..\", \"models/sweep_suppb\")\n",
    "data_dir = \"../data/\"+str(task_dir)\n",
    "data_list, summary_settings = run_summary(summary_settings, model_dir, data_dir)\n"
   ]
  },
  {
   "cell_type": "code",
   "execution_count": null,
   "metadata": {
    "scrolled": true
   },
   "outputs": [],
   "source": [
    "\n",
    "color1 = 'black'\n",
    "color2 = pltcolors_alt[1]\n",
    "ls1='-'\n",
    "ls2='-'\n",
    "alpha = 0.4\n",
    "zorder1 = 1\n",
    "zorder2 = 2\n",
    "legend1 = True\n",
    "legend2 = True\n",
    "plt.figure(figsize = (3,3))\n",
    "\n",
    "t1 = 300\n",
    "t2 = 900\n",
    "for i in range(24):\n",
    "    if np.sum(data_list['w_rec'][i][1]) <150:\n",
    "        plt.plot(summary_settings['freqs_l'],np.mean(data_list['post_spectrum'][i][:,t1:t2],axis=1), \n",
    "                 color = color1,alpha=alpha, ls = ls1,label='Dale' if legend1 else '',zorder =zorder1)\n",
    "        if legend1:\n",
    "            legend1=False\n",
    "    else:\n",
    "        plt.plot(summary_settings['freqs_l'],np.mean(data_list['post_spectrum'][i][:,t1:t2],axis=1), \n",
    "                 color = color2,alpha=alpha, ls = ls2,label='no Dale' if legend2 else '',zorder =zorder2)\n",
    "        if legend2:\n",
    "            legend2=False\n",
    "            \n",
    "plt.xlim(0.33,4)\n",
    "plt.legend()\n",
    "plt.ylim(0,1.2)\n",
    "plt.xticks([0.33,2,1,3,4])\n",
    "plt.legend()\n",
    "plt.xlabel(\"freq (Hz)\")\n",
    "plt.ylabel(\"power\")\n",
    "plt.savefig(\"../figures/Supp_b1\", facecolor=\"white\", transparent=False)\n",
    "plt.yticks([0,0.6,1.2])\n",
    "\n"
   ]
  },
  {
   "cell_type": "code",
   "execution_count": null,
   "metadata": {},
   "outputs": [],
   "source": [
    "powers_b = []\n",
    "for i in range(24):\n",
    "    powers_b.append(np.max(np.mean(data_list['post_spectrum'][i][:,t1:t2],axis=1)))\n",
    "np.mean(powers_b)\n",
    "plt.hist(powers_b,bins=8)"
   ]
  },
  {
   "cell_type": "code",
   "execution_count": null,
   "metadata": {},
   "outputs": [],
   "source": [
    "\n",
    "color1 = 'black'\n",
    "color2 = pltcolors_alt[1]\n",
    "ls1='-'\n",
    "ls2='-'\n",
    "alpha = 0.4\n",
    "zorder1 = 1\n",
    "zorder2 = 2\n",
    "legend1 = True\n",
    "legend2 = True\n",
    "plt.figure(figsize = (3,3))\n",
    "t1 = 1340\n",
    "t2 = 1940\n",
    "for i in range(24):\n",
    "    if np.sum(data_list['w_rec'][i][1]) <150:\n",
    "        plt.plot(summary_settings['freqs_l'],np.mean(data_list['post_spectrum'][i][:,t1:t2],axis=1), \n",
    "                 color = color1,alpha=alpha, ls = ls1,label='Dale' if legend1 else '',zorder =zorder1)\n",
    "        if legend1:\n",
    "            legend1=False\n",
    "    else:\n",
    "        plt.plot(summary_settings['freqs_l'],np.mean(data_list['post_spectrum'][i][:,t1:t2],axis=1), \n",
    "                 color = color2,alpha=alpha, ls = ls2,label='no Dale' if legend2 else '',zorder =zorder2)\n",
    "        if legend2:\n",
    "            legend2=False\n",
    "            \n",
    "plt.xlim(0.33,4)\n",
    "plt.xticks([0.33,2,1,3,4])\n",
    "plt.yticks([0,0.6,1.2])\n",
    "\n",
    "\n",
    "plt.legend()\n",
    "plt.ylim(0,1.2)\n",
    "plt.legend()\n",
    "plt.xlabel(\"freq (Hz)\")\n",
    "plt.ylabel(\"power\")\n",
    "plt.savefig(\"../figures/Supp_b2\", facecolor=\"white\", transparent=False)\n"
   ]
  },
  {
   "cell_type": "code",
   "execution_count": null,
   "metadata": {},
   "outputs": [],
   "source": [
    "powers_d = []\n",
    "for i in range(24):\n",
    "    powers_d.append(np.max(np.mean(data_list['post_spectrum'][i][:,t1:t2],axis=1)))\n",
    "np.mean(powers_d)\n",
    "plt.hist(powers_d)"
   ]
  },
  {
   "cell_type": "code",
   "execution_count": null,
   "metadata": {},
   "outputs": [],
   "source": [
    "from scipy.stats import ranksums\n",
    "ranksums(powers_b,powers_d,alternative='two-sided')"
   ]
  }
 ],
 "metadata": {
  "kernelspec": {
   "display_name": "Python 3 (ipykernel)",
   "language": "python",
   "name": "python3"
  },
  "language_info": {
   "codemirror_mode": {
    "name": "ipython",
    "version": 3
   },
   "file_extension": ".py",
   "mimetype": "text/x-python",
   "name": "python",
   "nbconvert_exporter": "python",
   "pygments_lexer": "ipython3",
   "version": "3.10.6"
  },
  "toc": {
   "base_numbering": 1,
   "nav_menu": {},
   "number_sections": true,
   "sideBar": true,
   "skip_h1_title": false,
   "title_cell": "Table of Contents",
   "title_sidebar": "Contents",
   "toc_cell": false,
   "toc_position": {},
   "toc_section_display": true,
   "toc_window_display": false
  }
 },
 "nbformat": 4,
 "nbformat_minor": 4
}

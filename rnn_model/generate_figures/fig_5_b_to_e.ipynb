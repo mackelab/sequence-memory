{
 "cells": [
  {
   "attachments": {},
   "cell_type": "markdown",
   "metadata": {},
   "source": [
    "# Imports"
   ]
  },
  {
   "cell_type": "code",
   "execution_count": 52,
   "metadata": {},
   "outputs": [],
   "source": [
    "import numpy as np\n",
    "import scipy.io\n",
    "from scipy.stats import zscore\n",
    "import os, sys\n",
    "sys.path.insert(0,'..')\n",
    "from sklearn.linear_model import Ridge\n",
    "from sklearn.decomposition import PCA\n",
    "from rnn.model import RNN\n",
    "from rnn.task import trial_generator\n",
    "from analysis.tf_utils import *\n",
    "from analysis.analysis_utils import *\n",
    "\n",
    "from pycircstat.tests import watson_williams as watson_williams_test, rayleigh\n",
    "from itertools import permutations\n",
    "\n",
    "import matplotlib.pyplot as plt\n",
    "from matplotlib import gridspec\n",
    "%matplotlib inline"
   ]
  },
  {
   "cell_type": "code",
   "execution_count": 53,
   "metadata": {},
   "outputs": [
    {
     "data": {
      "text/plain": [
       "'/System/Library/Fonts/Helvetica.ttc'"
      ]
     },
     "execution_count": 53,
     "metadata": {},
     "output_type": "execute_result"
    }
   ],
   "source": [
    "from matplotlib import font_manager\n",
    "#font_manager.findSystemFonts(fontpaths=None, fontext=\"ttf\")\n",
    "font_manager.findfont(\"Helvetica-01\")"
   ]
  },
  {
   "attachments": {},
   "cell_type": "markdown",
   "metadata": {},
   "source": [
    "# Initialise model and task\n",
    "Here we choose and load a trained model"
   ]
  },
  {
   "cell_type": "code",
   "execution_count": 54,
   "metadata": {},
   "outputs": [
    {
     "name": "stdout",
     "output_type": "stream",
     "text": [
      "Num GPUs Available:  0\n"
     ]
    }
   ],
   "source": [
    "fname = \"y7sfja1hSpecRad1.5DaleTrueTC20_100rand0sparse1osc2.04cost0.1\"\n",
    "#fname = \"a2r9nqtkSpecRad1.5DaleTrueTC20_100rand0sparse1osc2.04cost0.1\"\n",
    "#fname = \"a2r9nqtkSpecRad1.5DaleTrueTC20_100rand0sparse1osc2.75cost0.1\"\n",
    "fname = \"y7sfja1hSpecRad1.5DaleTrueTC20_100rand0sparse1osc3.73cost0.1\"\n",
    "\n",
    "#fname = \"SpecRad1.5DaleTrue2.75cost0.1\"\n",
    "#fname =\"ov6lf3z8SpecRad1.5DaleTrueTC20_100rand0sparse1osc1.5cost0.1\"\n",
    "#fname = \"SpecRad1.0DaleFalse2.04cost0\"\n",
    "#fname = \"N_items_4_N_200_Delay_260_Acc_0.8828125_tr101_2023_04_21_154006.mat\"\n",
    "#fname = \"N_items_4_N_200_Delay_260_Acc_0.8046875_tr501_2023_04_21_145018.mat\" #retrained\n",
    "#fname = \"N_items_4_N_200_Delay_260_Acc_0.875_tr1_2023_04_21_164052.mat\"\n",
    "#fname =\"N_items_4_N_200_Delay_260_Acc_0.953125_tr10801_2023_04_21_182334.mat\"\n",
    "#fname = \"N_items_4_N_200_Delay_260_Acc_0.953125_tr6801_2023_04_23_080630.mat\"\n",
    "#fname = \"az8vlt9oSpecRad1.5DaleTrue3.74cost0.1\" #accuracy = 0.5\n",
    "#fname=\"fb4ni25cSpecRad1.5DaleTrue3.74cost0.1\" #accuracy = 0.5\n",
    "#fname = \"fb4ni25cSpecRad1.5DaleTrue2.75cost0.1\" #acc = 0.5\n",
    "#fname = \"az8vlt9oSpecRad1.5DaleTrue2.75cost0.1\" #acc = 0.9\n",
    "#fname = \"a2r9nqtkSpecRad1.5DaleTrueTC20_100rand0sparse1osc1.5cost0.1\"\n",
    "#fname = \"uioj8w4eSpecRad1.5DaleTrueTC20_100rand0sparse1osc3.73cost0.1\"\n",
    "base_dir = \"..\"\n",
    "#fname = \"SpecRad1.5DaleTrue1.5cost0.5\"\n",
    "#task_dir = \"sweep_retrain2\"\n",
    "task_dir = 'sweep_main'\n",
    "#task_dir = 'Rdelay_Sweep'\n",
    "#task_dir=\"new\"\n",
    "#fname = \"y7sfja1hSpecRad1.5DaleTrueTC20_100rand0sparse1osc3.73cost0.1\"\n",
    "model_dir = os.path.join(base_dir, \"models\", task_dir, fname)\n",
    "net = RNN()\n",
    "var = scipy.io.loadmat(model_dir)\n",
    "net.load_model(model_dir)"
   ]
  },
  {
   "cell_type": "code",
   "execution_count": 55,
   "metadata": {},
   "outputs": [
    {
     "data": {
      "text/plain": [
       "0.09821428571428571"
      ]
     },
     "execution_count": 55,
     "metadata": {},
     "output_type": "execute_result"
    }
   ],
   "source": [
    "len(var['val_ind'][0])/(8*7*6*5)"
   ]
  },
  {
   "attachments": {},
   "cell_type": "markdown",
   "metadata": {},
   "source": [
    "## Experiment settings\n",
    "\n",
    "Settings for running analysis and generating figures"
   ]
  },
  {
   "cell_type": "code",
   "execution_count": 56,
   "metadata": {},
   "outputs": [],
   "source": [
    "ref_phase = \"sine\"  # Reference phase for 'spike-phase' histogram, either sine or LFP\n",
    "onlyGaba = False  # Only use inhibitory neurons for calculating LFP\n",
    "substr_mean_LFP = False #substract stim triggered mean from LFP\n",
    "sw_tanh2log = False # substitute logistic for tanh to get pos firing rates (adjust W and B accordingly)\n",
    "\n",
    "cutoff_p = 10e-3  # Max Wilc p allowed for stimulus triggered neurons (<1)\n",
    "cutoff_d = 0  # Min Wilc d allowed stimulus selective neurons (>=0)\n",
    "vex_cuttoff = 0  # Exclude neurons without strong stimulus - phase effect (>=0)\n",
    "\n",
    "normalize_fr_extract = True  # Normalize extracted firing rates for wilc p\n",
    "n_trials = 224  # Number trials used in analysis\n",
    "randomize_onset = True # Randomise onset \n",
    "freqs_l = np.logspace(*np.log10([1, 20]), num=50) # Frequencies for scalogram\n",
    "#freqs_l = np.logspace(*np.log10([.5, 10]), num=50) # Frequencies for scalogram\n",
    "\n",
    "stim_offs= 20"
   ]
  },
  {
   "cell_type": "code",
   "execution_count": 57,
   "metadata": {},
   "outputs": [],
   "source": [
    "model_par, settings = reinstate_params(var)"
   ]
  },
  {
   "attachments": {},
   "cell_type": "markdown",
   "metadata": {},
   "source": [
    "## Instantiate variables\n",
    "\n",
    "We instantiate some variables for convenience"
   ]
  },
  {
   "cell_type": "code",
   "execution_count": 58,
   "metadata": {},
   "outputs": [],
   "source": [
    "# model parameters\n",
    "out_channels = net.out_channels\n",
    "n_channels = net.n_channels\n",
    "n_items = int(var[\"n_items\"][0][0])\n",
    "N = var[\"N\"][0][0]\n",
    "\n",
    "# instantiate useful dictionaries\n",
    "model_par, settings = reinstate_params(var)\n",
    "settings['stim_offs']=stim_offs\n",
    "settings['probe_offs']=stim_offs\n",
    "settings['random_delay']=0\n",
    "\n",
    "# set delay\n",
    "delay=250 + settings['random_delay']//2\n",
    "\n",
    "settings[\"delay\"] = delay\n",
    "settings['random_delay_per_tr']=True\n",
    "# set stimulus onset\n",
    "settings[\"stim_ons\"] = 120\n",
    "if randomize_onset:\n",
    "    settings[\"rand_ons\"] = int(1000/(var['lossF'][0][0]*settings['deltaT']))\n",
    "else:\n",
    "    settings[\"rand_ons\"]=0\n",
    "if settings[\"rand_ons\"]>settings[\"stim_ons\"]:\n",
    "    print(\"WARNING, can't use this random onset, defaulting to 50 steps\")\n",
    "    settings[\"rand_ons\"]=50\n",
    "\n",
    "# batch size\n",
    "settings[\"batch_size\"] = n_trials\n",
    "\n",
    "# delay\n",
    "delay_start = (\n",
    "    settings[\"stim_ons\"]\n",
    "    + n_items * settings[\"stim_dur\"]\n",
    "    + (n_items - 1) * settings[\"stim_offs\"]\n",
    ")\n",
    "delay_end = delay_start + settings[\"delay\"]\n",
    "\n",
    "# time steps\n",
    "dt_sec = int(1000 / settings[\"deltaT\"])\n",
    "timestep = settings[\"deltaT\"] / 1000\n",
    "\n",
    "# colors for plotting\n",
    "pltcolors, pltcolors_alt = steffiscolours()\n",
    "\n",
    "# substitute logistic for tanh\n",
    "if sw_tanh2log == True:\n",
    "    tanh2log(net)\n",
    "    settings[\"x2x\"] = 2\n",
    "\n",
    "\n"
   ]
  },
  {
   "cell_type": "code",
   "execution_count": 59,
   "metadata": {},
   "outputs": [
    {
     "data": {
      "text/plain": [
       "26"
      ]
     },
     "execution_count": 59,
     "metadata": {},
     "output_type": "execute_result"
    }
   ],
   "source": [
    "settings[\"rand_ons\"]"
   ]
  },
  {
   "attachments": {},
   "cell_type": "markdown",
   "metadata": {},
   "source": [
    "## Instantiate Trial Generator"
   ]
  },
  {
   "cell_type": "code",
   "execution_count": 60,
   "metadata": {},
   "outputs": [],
   "source": [
    "# instantiate a trial generator\n",
    "\n",
    "val_perc = 0\n",
    "trial_gen = trial_generator(\n",
    "    n_items,\n",
    "    n_channels,\n",
    "    out_channels,\n",
    "    val_perc,\n",
    ")\n",
    "\n",
    "trial_gen.train_ind = var[\"train_ind\"][0]"
   ]
  },
  {
   "attachments": {},
   "cell_type": "markdown",
   "metadata": {},
   "source": [
    "## Generate trials"
   ]
  },
  {
   "cell_type": "code",
   "execution_count": 61,
   "metadata": {},
   "outputs": [
    {
     "name": "stdout",
     "output_type": "stream",
     "text": [
      "balanced trials converged\n",
      "174\n",
      "accuracy = 0.7767857142857143\n"
     ]
    }
   ],
   "source": [
    "# draw trials with balanced proportion of each stimuli\n",
    "net.rand_init_x=1\n",
    "stims = draw_balanced_trials()\n",
    "stim_ind = []\n",
    "for i in range(len(stims[0])):\n",
    "    ind = np.argmax(np.all(np.equal(trial_gen.all_trials_arr,stims[:,i]),axis = 1))\n",
    "    stim_ind.append(ind)\n",
    "trial_ind_match = stim_ind\n",
    "trial_ind_non_match = stim_ind\n",
    "\n",
    "st, label, delays, stim_roll, isi_stim, isi_probe = trial_gen.generate_input(\n",
    "    settings,\n",
    "    settings[\"delay\"],\n",
    "    val=False,\n",
    "    stim_ind_match=trial_ind_match,\n",
    "    stim_ind_non_match=trial_ind_non_match,\n",
    ")\n",
    "\n",
    "\n",
    "# instantiate some more variables\n",
    "st = st.astype(np.float64)\n",
    "\n",
    "x, r, o = net.predict(settings, st[:, :, :])\n",
    "accuracy(settings, o, label, delays, isi_probe, stim_roll)\n",
    "if sw_tanh2log == False and net.activation[0]=='tanh':\n",
    "    r+=1\n",
    "    r/=2\n",
    "\n",
    "\n",
    "T = np.shape(st)[-1]\n",
    "z1, mask = trial_gen.generate_target(settings, label, T, delays, stim_roll, isi_probe)\n",
    "\n",
    "x1 = np.zeros_like(x[settings[\"rand_ons\"]:])\n",
    "r1 = np.zeros_like(r[settings[\"rand_ons\"]:])\n",
    "o1 = np.zeros_like(o[settings[\"rand_ons\"]:])\n",
    "stim = np.zeros_like(st[:,:,settings[\"rand_ons\"]:])\n",
    "z = np.zeros_like(z1[settings[\"rand_ons\"]:])\n",
    "\n",
    "if randomize_onset:\n",
    "    for i in range(x1.shape[2]):\n",
    "        #x1[:,:,i]=x[-stim_roll[i]:-((settings[\"rand_ons\"]+stim_roll[i])+1),:,i]\n",
    "        #r1[:,:,i]=r[-stim_roll[i]:-((settings[\"rand_ons\"]+stim_roll[i])+1),:,i]\n",
    "        #o1[:,:,i]=o[-stim_roll[i]:-((settings[\"rand_ons\"]+stim_roll[i])+1),:,i]\n",
    "\n",
    "        x1[:,:,i]=np.roll(x[:,:,i], -stim_roll[i], axis=0)[settings[\"rand_ons\"]:]\n",
    "        r1[:,:,i]=np.roll(r[:,:,i], -stim_roll[i], axis=0)[settings[\"rand_ons\"]:]\n",
    "        o1[:,:,i]=np.roll(o[:,:,i], -stim_roll[i], axis=0)[settings[\"rand_ons\"]:]\n",
    "        stim[:,i]=np.roll(st[:,i], -stim_roll[i],axis =1)[:,settings[\"rand_ons\"]:]\n",
    "        z[:,:,i]=np.roll(z1[:,:,i], -stim_roll[i],axis =0)[settings[\"rand_ons\"]:]\n",
    "    delay_start-=settings[\"rand_ons\"]\n",
    "    delay_end-=settings[\"rand_ons\"]\n",
    "    settings[\"stim_ons\"]-=settings[\"rand_ons\"]\n",
    "    settings['rand_ons']=0\n",
    "    stim_roll = np.zeros_like(stim_roll)\n",
    "else:\n",
    "    x1=x\n",
    "    r1=r\n",
    "    o1=o\n",
    "T = np.shape(stim)[-1]\n",
    "settings[\"T\"] = T\n",
    "time = np.arange(T) * settings[\"deltaT\"] / 1000\n",
    "plt_time = (\n",
    "    np.arange(-settings[\"stim_ons\"] + settings[\"rand_ons\"], T - settings[\"stim_ons\"])\n",
    "    * settings[\"deltaT\"]\n",
    "    / 1000\n",
    ")\n"
   ]
  },
  {
   "cell_type": "code",
   "execution_count": 62,
   "metadata": {},
   "outputs": [
    {
     "data": {
      "image/png": "[encoded data removed]",
      "text/plain": [
       "<Figure size 640x480 with 1 Axes>"
      ]
     },
     "metadata": {},
     "output_type": "display_data"
    }
   ],
   "source": [
    "for i in range(128):\n",
    "    plt.plot(stim[:,i].T)"
   ]
  },
  {
   "cell_type": "code",
   "execution_count": 63,
   "metadata": {},
   "outputs": [
    {
     "data": {
      "image/png": "[encoded data removed]",
      "text/plain": [
       "<Figure size 640x480 with 1 Axes>"
      ]
     },
     "metadata": {},
     "output_type": "display_data"
    }
   ],
   "source": [
    "for i in range(128):\n",
    "    plt.plot(np.roll(st[:,i],-stim_roll[i],1)[:,34:].T,color='blue',alpha=.5)"
   ]
  },
  {
   "cell_type": "code",
   "execution_count": 64,
   "metadata": {},
   "outputs": [
    {
     "data": {
      "text/plain": [
       "[<matplotlib.lines.Line2D at 0x2d4199f60>]"
      ]
     },
     "execution_count": 64,
     "metadata": {},
     "output_type": "execute_result"
    },
    {
     "data": {
      "image/png": "[encoded data removed]",
      "text/plain": [
       "<Figure size 640x480 with 1 Axes>"
      ]
     },
     "metadata": {},
     "output_type": "display_data"
    }
   ],
   "source": [
    "plt.plot(np.mean(r1,axis=(1,2)))"
   ]
  },
  {
   "cell_type": "code",
   "execution_count": 65,
   "metadata": {},
   "outputs": [
    {
     "data": {
      "text/plain": [
       "(664,)"
      ]
     },
     "execution_count": 65,
     "metadata": {},
     "output_type": "execute_result"
    }
   ],
   "source": [
    "plt_time = (\n",
    "    np.arange(-settings[\"stim_ons\"] + settings[\"rand_ons\"], T - settings[\"stim_ons\"])\n",
    "    * settings[\"deltaT\"]\n",
    "    / 1000\n",
    ")\n",
    "plt_time.shape"
   ]
  },
  {
   "cell_type": "code",
   "execution_count": 66,
   "metadata": {},
   "outputs": [
    {
     "data": {
      "text/plain": [
       "0"
      ]
     },
     "execution_count": 66,
     "metadata": {},
     "output_type": "execute_result"
    }
   ],
   "source": [
    "settings['rand_ons']"
   ]
  },
  {
   "cell_type": "code",
   "execution_count": 67,
   "metadata": {},
   "outputs": [
    {
     "data": {
      "text/plain": [
       "(664, 200, 224)"
      ]
     },
     "execution_count": 67,
     "metadata": {},
     "output_type": "execute_result"
    }
   ],
   "source": [
    "x1.shape"
   ]
  },
  {
   "cell_type": "code",
   "execution_count": 68,
   "metadata": {
    "scrolled": false
   },
   "outputs": [
    {
     "data": {
      "image/png": "[encoded data removed]",
      "text/plain": [
       "<Figure size 640x480 with 1 Axes>"
      ]
     },
     "metadata": {},
     "output_type": "display_data"
    }
   ],
   "source": [
    "plt.plot(x1[:,0,0]);\n",
    "plt.plot(x1[:,0,2]);"
   ]
  },
  {
   "attachments": {},
   "cell_type": "markdown",
   "metadata": {},
   "source": [
    "# Generate plots"
   ]
  },
  {
   "attachments": {},
   "cell_type": "markdown",
   "metadata": {},
   "source": [
    "## Figure 5d: LFPs"
   ]
  },
  {
   "cell_type": "code",
   "execution_count": 69,
   "metadata": {},
   "outputs": [
    {
     "data": {
      "text/plain": [
       "664"
      ]
     },
     "execution_count": 69,
     "metadata": {},
     "output_type": "execute_result"
    }
   ],
   "source": [
    "len(time)"
   ]
  },
  {
   "cell_type": "code",
   "execution_count": 78,
   "metadata": {},
   "outputs": [
    {
     "name": "stdout",
     "output_type": "stream",
     "text": [
      "delay freq = 3.83827348968414 with power 0.8727191158056437\n",
      "baseline freq = 3.6106407876409943 with power 0.9840063710018442\n"
     ]
    }
   ],
   "source": [
    "# extract local field potential\n",
    "substr_mean_LFP = True\n",
    "trial = np.random.choice(np.arange(n_trials))\n",
    "LFP = get_LFP(var, r1, stim, onlyGaba=onlyGaba, alpha = 1)\n",
    "LFP = zscore(LFP, axis=0)\n",
    "\n",
    "if substr_mean_LFP:\n",
    "    substr = np.mean(LFP, axis=1)\n",
    "else:\n",
    "    substr = 0\n",
    "\n",
    "amps = []\n",
    "amps_u = []\n",
    "\n",
    "for tr in range(n_trials):\n",
    "    _, amp = scalogram(\n",
    "        LFP[:, tr] - substr,\n",
    "        7,\n",
    "        time,\n",
    "        settings[\"deltaT\"] / 1000,\n",
    "        freqs_l,\n",
    "    )\n",
    "    amps.append(amp)\n",
    "\n",
    "amp = np.mean(np.array(amps),axis=0)\n",
    "\n",
    "main_freq = freqs_l[np.argmax(np.mean(amp[:, delay_start:delay_end], axis=1))]\n",
    "main_power = np.max(np.mean(amp[:, delay_start:delay_end], axis=1))\n",
    "baseline_freq = freqs_l[np.argmax(np.mean(amp[:, :settings[\"stim_ons\"]], axis=1))]\n",
    "baseline_power = np.max(np.mean(amp[:, :settings[\"stim_ons\"]], axis=1))\n",
    "\n",
    "print(\"delay freq = \" + str(main_freq) + \" with power \" + str(main_power) +\n",
    "      \"\\nbaseline freq = \" + str(baseline_freq) + \" with power \" + str(baseline_power))\n",
    "f = main_freq"
   ]
  },
  {
   "cell_type": "code",
   "execution_count": 79,
   "metadata": {},
   "outputs": [
    {
     "data": {
      "text/plain": [
       "(664,)"
      ]
     },
     "execution_count": 79,
     "metadata": {},
     "output_type": "execute_result"
    }
   ],
   "source": [
    "time.shape"
   ]
  },
  {
   "cell_type": "code",
   "execution_count": 81,
   "metadata": {},
   "outputs": [
    {
     "name": "stderr",
     "output_type": "stream",
     "text": [
      "1 extra bytes in post.stringData array\n",
      "'created' timestamp seems very low; regarding as unix timestamp\n",
      "Zapf NOT subset; don't know how to subset; dropped\n",
      "feat NOT subset; don't know how to subset; dropped\n",
      "meta NOT subset; don't know how to subset; dropped\n",
      "morx NOT subset; don't know how to subset; dropped\n"
     ]
    },
    {
     "name": "stdout",
     "output_type": "stream",
     "text": [
      "3.83827348968414\n"
     ]
    },
    {
     "data": {
      "image/png": "[encoded data removed]",
      "text/plain": [
       "<Figure size 150x150 with 3 Axes>"
      ]
     },
     "metadata": {},
     "output_type": "display_data"
    }
   ],
   "source": [
    "# Plot a spectrogram\n",
    "\n",
    "from matplotlib import rc\n",
    "#rc('font',**{'family':'sans-serif','sans-serif':['Helvetica']})\n",
    "mpl.rcParams['text.usetex'] = True\n",
    "plt.rcParams[\"font.family\"] = \"Helvetica\"\n",
    "mpl.rcParams['font.size'] = 8\n",
    "mpl.rcParams['pdf.fonttype'] = 42\n",
    "mpl.rcParams['ps.fonttype'] = 42\n",
    "plt.rcParams.update({\n",
    "    'font.family': 'Helvetica'\n",
    "})\n",
    "\n",
    "plt_start =0\n",
    "with mpl.rc_context(fname=\"matplotlibrc\"):\n",
    "    #print(mpl.rcParams)\n",
    "    fig,ax = plt.subplots(2,2,figsize=(1.5, 1.5),\n",
    "                          gridspec_kw={'height_ratios': [1, 3],'width_ratios': [20, 1]})  # , dpi = 150)\n",
    "    fig.delaxes(ax[0,1])\n",
    "    im = ax[1,0].imshow(amp[:, plt_start:], aspect=\"auto\", cmap ='jet', vmin = -0,origin='lower')\n",
    "    ax[1,0].set_yticks(\n",
    "        np.arange(0, len(freqs_l))[::14],\n",
    "        labels=[\"{:.1f}\".format(f).strip(\"0\") for f in freqs_l[::13]],\n",
    "    )\n",
    "    xt = np.arange(0, len(time[plt_start:]))[settings[\"stim_ons\"] - plt_start :: 200]\n",
    "    #ax[1,0].set_xticks(xt, labels=[\"{:.0f}\".format(f).strip(\"0\") for f in np.arange(0, 2 * len(xt), 2)])\n",
    "    ax[1,0].set_xticks(xt, labels=[str(int(f)) for f in np.arange(0, 2 * len(xt), 2)])\n",
    "\n",
    "    ax[0,0].set_xticks([], labels=[])\n",
    "    ax[0,0].set_xlim(0, len(LFP[:,0]))\n",
    "\n",
    "    ax[1,0].set_xlabel(\"time (s)\",fontname=\"Helvetica\")\n",
    "    ax[1,0].set_ylabel(\"frequency (Hz)\")\n",
    "    cbar = fig.colorbar(im,ticks=[0,1],cax=ax[1,1])\n",
    "    cbar.set_label(\"power (Sd)\", rotation=270)\n",
    "    for i in range(4):\n",
    "        ax[1,0].axvline(\n",
    "            x=(\n",
    "                settings[\"stim_ons\"]\n",
    "                - plt_start\n",
    "                + i * (settings[\"stim_offs\"] + settings[\"stim_dur\"])\n",
    "            ),\n",
    "            color=\"white\",\n",
    "            linestyle=\"--\",\n",
    "            alpha=1,\n",
    "            zorder=2,\n",
    "        )\n",
    "        ax[0,0].axvline(\n",
    "            x=(\n",
    "                settings[\"stim_ons\"]\n",
    "                - plt_start\n",
    "                + i * (settings[\"stim_offs\"] + settings[\"stim_dur\"])\n",
    "            ),\n",
    "            color=\"grey\",\n",
    "            linestyle=\"--\",\n",
    "            alpha=1,\n",
    "            zorder=20,\n",
    "        )\n",
    "    ax[1,0].axvline(\n",
    "        x=(delay_end - plt_start), color=\"white\", linestyle=\"--\", alpha=1, zorder=1\n",
    "    )\n",
    "    ax[0,0].axvline(\n",
    "        x=(delay_end - plt_start), color=\"grey\", linestyle=\"--\", alpha=1, zorder=20\n",
    "    )\n",
    "    ax[0,0].set_yticks([], labels=[])\n",
    "    i = np.random.randint(224)\n",
    "    ax[0,0].plot((LFP[:,i])*2+4+len(amp),color='black',lw=.5)\n",
    "    ax[0,0].spines['bottom'].set_visible(False)\n",
    "    plt.savefig(\"../figures/LFP_fr\"+str(f)+\".pdf\")\n",
    "    print(f)"
   ]
  },
  {
   "attachments": {},
   "cell_type": "markdown",
   "metadata": {},
   "source": [
    "## Select stimulus selective units"
   ]
  },
  {
   "cell_type": "code",
   "execution_count": 36,
   "metadata": {},
   "outputs": [
    {
     "name": "stdout",
     "output_type": "stream",
     "text": [
      "percentage of stim responsive cells: 95.50 %\n",
      "percentage of cells d prime > 0: 31.50 %\n",
      "percentage of cells d prime > cutoff: 31.5\n"
     ]
    }
   ],
   "source": [
    "baseline_len = int(1000/(baseline_freq*settings['deltaT']))\n",
    "baseline_start = max((settings[\"stim_ons\"] - baseline_len) // 2, 0)\n",
    "stim_len = min(settings[\"stim_dur\"] + settings[\"stim_offs\"], baseline_len)\n",
    "\n",
    "# extract stimulus triggered activity\n",
    "data, labels = extract_stim_trig_act(\n",
    "    r1,\n",
    "    stim[:n_channels],\n",
    "    stim_roll,\n",
    "    settings,\n",
    "    baseline_start=baseline_start,\n",
    "    baseline_len=baseline_len,\n",
    "    stim_len=stim_len,\n",
    "    normalize=normalize_fr_extract,\n",
    ")\n",
    "\n",
    "wilc_pvals = get_wilc_pvals(data, onesided=False)\n",
    "d_primes, responsive, prefered_stim = get_dprime(data, wilc_pvals, cutoff=cutoff_p)\n",
    "ranked_neurons = np.argsort(d_primes)\n",
    "\n",
    "print(\n",
    "    \"percentage of cells d prime > cutoff: \"\n",
    "    + str(np.sum(d_primes > cutoff_d) / N * 100)\n",
    ")\n",
    "\n",
    "# calculate upper and lower 50th percentile stim. selective cells\n",
    "median_d = np.median(d_primes[responsive.astype(bool)])\n",
    "cutoff_d = np.median(d_primes[responsive.astype(bool)])\n",
    "up50th = np.arange(200)[np.logical_and(d_primes>median_d, responsive)]\n",
    "low50th = np.arange(200)[np.logical_and(d_primes<median_d, responsive)]"
   ]
  },
  {
   "attachments": {},
   "cell_type": "markdown",
   "metadata": {},
   "source": [
    "## Figure 5b: input / output"
   ]
  },
  {
   "cell_type": "code",
   "execution_count": 37,
   "metadata": {
    "scrolled": false
   },
   "outputs": [
    {
     "data": {
      "image/png": "[encoded data removed]",
      "text/plain": [
       "<Figure size 500x300 with 1 Axes>"
      ]
     },
     "metadata": {},
     "output_type": "display_data"
    }
   ],
   "source": [
    "# plot an example trial\n",
    "\n",
    "\n",
    "trial = np.random.choice(np.arange(n_trials))\n",
    "plotstim = np.copy(stim[:, trial])\n",
    "\n",
    "ci = 0\n",
    "colors0 = [\"lightgray\" for _ in range(8)]\n",
    "colors1 = [\"lightgray\" for _ in range(8)]\n",
    "t1 = settings[\"stim_ons\"]# - settings[\"rand_ons\"]\n",
    "\n",
    "for i in range(4):\n",
    "    labels = np.argmax(\n",
    "        np.sum(stim[:n_channels, trial, t1 : t1 + settings[\"stim_dur\"]], axis=1), axis=0\n",
    "    )\n",
    "    colors0[labels] = pltcolors[i]\n",
    "    colors1[labels] = pltcolors[i]\n",
    "    t1 += settings[\"stim_dur\"] + settings[\"stim_offs\"]\n",
    "\n",
    "for i in np.arange(1, n_channels):\n",
    "    plotstim[i:] += 1.25\n",
    "\n",
    "\n",
    "with mpl.rc_context(fname=\"matplotlibrc\"):\n",
    "\n",
    "    fig = plt.figure(figsize=(5, 3))\n",
    "    gs = fig.add_gridspec(1, 1)  \n",
    "    axs = fig.add_subplot(gs[0])\n",
    "    for i in np.arange(n_channels):\n",
    "        axs.plot(plt_time, plotstim[i].T, color=colors0[i], linewidth=2)\n",
    "    for i in range(4):\n",
    "        axs.axvline(\n",
    "            x=(i * (settings[\"stim_offs\"] + settings[\"stim_dur\"])) / dt_sec,\n",
    "            color=\"black\",\n",
    "            linestyle=\"--\",\n",
    "            alpha=0.5,\n",
    "            zorder=-1,\n",
    "        )\n",
    "\n",
    "    axs.axvline(\n",
    "        x=(delay_end - settings[\"stim_ons\"]) / dt_sec,\n",
    "        color=\"black\",\n",
    "        linestyle=\"--\",\n",
    "        alpha=0.5,\n",
    "        zorder=-1,\n",
    "    )\n",
    "\n",
    "    axs.spines[\"right\"].set_visible(False)\n",
    "    axs.spines[\"top\"].set_visible(False)\n",
    "    axs.set_xlim(plt_time[0], plt_time[-1])\n",
    "    axs.set_xlabel(\"Time (s)\")\n",
    "    axs.spines[\"left\"].set_visible(False)\n",
    "    axs.set_yticks(np.arange(0, 8 * 1.25, 1.25))\n",
    "    axs.set_yticklabels(np.arange(8))\n",
    "    axs.set_ylabel(\"Input neuron index\")\n",
    "    plt.savefig(\"../figures/Panel1A\")\n",
    "    "
   ]
  },
  {
   "cell_type": "code",
   "execution_count": 38,
   "metadata": {},
   "outputs": [
    {
     "data": {
      "text/plain": [
       "(664, 1, 224)"
      ]
     },
     "execution_count": 38,
     "metadata": {},
     "output_type": "execute_result"
    }
   ],
   "source": [
    "z.shape"
   ]
  },
  {
   "cell_type": "code",
   "execution_count": 39,
   "metadata": {},
   "outputs": [
    {
     "name": "stderr",
     "output_type": "stream",
     "text": [
      "The PostScript backend does not support transparency; partially transparent artists will be rendered opaque.\n"
     ]
    },
    {
     "data": {
      "image/png": "[encoded data removed]",
      "text/plain": [
       "<Figure size 150x300 with 1 Axes>"
      ]
     },
     "metadata": {},
     "output_type": "display_data"
    }
   ],
   "source": [
    "# plot example output\n",
    "trial = np.random.choice(np.arange(n_trials))\n",
    "\n",
    "training_params = settings\n",
    "eval_delays = delay\n",
    "cutoff_T = 0\n",
    "probe_time = (\n",
    "    training_params[\"stim_ons\"]\n",
    "    + stim_roll\n",
    "    + training_params[\"n_items\"]\n",
    "    * (training_params[\"stim_dur\"] + training_params[\"probe_dur\"])\n",
    "    + eval_delays\n",
    "    + 1\n",
    "    + training_params[\"response_ons\"]\n",
    "    + (training_params[\"n_items\"] - 1) * (training_params[\"stim_offs\"])\n",
    "    + np.sum(isi_probe, axis=1)\n",
    "    - cutoff_T\n",
    ")\n",
    "\n",
    "with mpl.rc_context(fname=\"matplotlibrc\"):\n",
    "\n",
    "    fig, axs = plt.subplots(1, 1, figsize=(1.5, 3))\n",
    "    ploto = np.copy(o1[:, :, trial])\n",
    "    colors = [\"grey\", \"C2\", \"C3\"]\n",
    "    if net.out_channels == 3:\n",
    "        for i in np.arange(net.out_channels):\n",
    "            ploto[:, i] = np.roll(ploto[:, i], -stim_roll[trial])\n",
    "\n",
    "            axs.plot(\n",
    "                plt_time,\n",
    "                ploto[settings[\"rand_ons\"] :, i].T,\n",
    "                color=colors[i],\n",
    "                linewidth=2,\n",
    "            )\n",
    "            ploto[:, i + 1 :] += 1.25\n",
    "        axs.set_ylim(-0.1, 3 * 1.25)\n",
    "        axs.set_yticks(np.arange(0 + 0.6125, 3 * 1.25 + 0.6125, 1.25))\n",
    "        axs.set_yticklabels([\"fixate\", \"match\", \"non-\\nmatch\"])  # np.arange(3))\n",
    "        axs.set_ylabel(\"Output neuron class\")\n",
    "\n",
    "    else:\n",
    "        ploto[:, 0] = np.roll(ploto[:, 0], -stim_roll[trial])\n",
    "        axs.plot(\n",
    "            plt_time, ploto[:, 0].T, color=colors[0], linewidth=2\n",
    "        )\n",
    "        axs.plot(\n",
    "            plt_time, z[settings[\"rand_ons\"]:, 0, trial].T, 'red', linewidth=2,alpha=0.5\n",
    "        )\n",
    "        axs.axhline(0, color=\"lightgrey\", ls=\"--\")\n",
    "        axs.set_ylim(-1.5, 1.5)\n",
    "        axs.set_yticks([-0.7, 0, 0.7])\n",
    "        axs.set_yticklabels([\"non-\\nmatch\", \"0\", \"match\"])  # np.arange(3))\n",
    "\n",
    "        axs.set_ylabel(\"Output neuron current\")\n",
    "    axs.axvline(\n",
    "        x=(delay_end - settings[\"stim_ons\"]) / dt_sec,\n",
    "        color=\"black\",\n",
    "        linestyle=\"--\",\n",
    "        alpha=0.5,\n",
    "        zorder=-1,\n",
    "    )\n",
    "\n",
    "    axs.spines[\"top\"].set_visible(False)\n",
    "\n",
    "    axs.set_xlim(plt_time[-settings[\"response_dur\"]*4], plt_time[-1])\n",
    "    axs.set_xlabel(\"Time (s)\")\n",
    "    axs.spines[\"left\"].set_visible(False)\n",
    "    axs.yaxis.set_label_position(\"right\")\n",
    "    axs.yaxis.tick_right()\n",
    "\n",
    "    plt.savefig(\"../figures/Panel1C\")  # transparent=False)\n",
    "    plt.savefig(\"../figures/Example_output.eps\")"
   ]
  },
  {
   "cell_type": "code",
   "execution_count": 40,
   "metadata": {},
   "outputs": [],
   "source": [
    "#inp = np.zeros((8,1,780))\n",
    "#inp[0,0,:]=1\n",
    "#x1, r1, o1 = net.predict(settings, inp)"
   ]
  },
  {
   "cell_type": "code",
   "execution_count": 41,
   "metadata": {},
   "outputs": [],
   "source": [
    "#plt.plot(x1[:,:20,0]);"
   ]
  },
  {
   "cell_type": "code",
   "execution_count": 42,
   "metadata": {},
   "outputs": [],
   "source": [
    "#import copy"
   ]
  },
  {
   "cell_type": "code",
   "execution_count": 43,
   "metadata": {},
   "outputs": [],
   "source": [
    "#stim_ind=2\n",
    "#d_th=0"
   ]
  },
  {
   "cell_type": "code",
   "execution_count": 44,
   "metadata": {},
   "outputs": [],
   "source": [
    "#net_ablatet = copy.deepcopy(net)"
   ]
  },
  {
   "cell_type": "code",
   "execution_count": 45,
   "metadata": {},
   "outputs": [],
   "source": [
    "#net_ablatet.initializer['w_rec'][prefered_stim!=stim_ind,:]=0\n",
    "#net_ablatet.initializer['w_rec'][:,prefered_stim!=stim_ind]=0\n",
    "#net_ablatet.initializer['w_rec'][d_primes<d_th,:]=0\n",
    "#net_ablatet.initializer['w_rec'][:,d_primes<d_th]=0\n",
    "#net_ablatet.initializer['w_rec']*=2\n",
    "#plt.imshow(net_ablatet.initializer['w_rec'])"
   ]
  },
  {
   "cell_type": "code",
   "execution_count": 46,
   "metadata": {},
   "outputs": [],
   "source": [
    "#x1, r1, o1 = net_ablatet.predict(settings, np.zeros_like(stim[:, :, :]))\n",
    "#plt.plot(x1[:,prefered_stim==stim_ind,0],color ='black',alpha=0.5);"
   ]
  },
  {
   "attachments": {},
   "cell_type": "markdown",
   "metadata": {},
   "source": [
    "## Figure 5c: mean currents"
   ]
  },
  {
   "cell_type": "code",
   "execution_count": 47,
   "metadata": {},
   "outputs": [
    {
     "data": {
      "image/png": "[encoded data removed]",
      "text/plain": [
       "<Figure size 500x200 with 1 Axes>"
      ]
     },
     "metadata": {},
     "output_type": "display_data"
    },
    {
     "data": {
      "image/png": "[encoded data removed]",
      "text/plain": [
       "<Figure size 500x200 with 1 Axes>"
      ]
     },
     "metadata": {},
     "output_type": "display_data"
    },
    {
     "data": {
      "image/png": "[encoded data removed]",
      "text/plain": [
       "<Figure size 500x200 with 1 Axes>"
      ]
     },
     "metadata": {},
     "output_type": "display_data"
    },
    {
     "data": {
      "image/png": "[encoded data removed]",
      "text/plain": [
       "<Figure size 500x200 with 1 Axes>"
      ]
     },
     "metadata": {},
     "output_type": "display_data"
    }
   ],
   "source": [
    "# Plot mean currents with Poisson spikes\n",
    "\n",
    "scale =60 # for line plots\n",
    "spikesize = 0.5 # spike size in plots\n",
    "spike_scale = 7 # for scaling rate parameter in poisson\n",
    "\n",
    "plt_tr_int = 1 # we take one out of every plt_tr_int trials for spike raster plots to avoid cluttering them\n",
    "\n",
    "plt_neurons = ranked_neurons[-4:]\n",
    "\n",
    "with mpl.rc_context(fname=\"matplotlibrc\"):\n",
    "\n",
    "    \n",
    "    for neui, neuron in enumerate(plt_neurons):\n",
    "        # Create Figure\n",
    "        fig = plt.figure(figsize=(5,2))\n",
    "        gs = gridspec.GridSpec(1, 1)    \n",
    "\n",
    "        # Extract traces of pref stim\n",
    "        traces_all = [[] for _ in np.arange(4)]\n",
    "        pref_stim = prefered_stim[neuron]\n",
    "        traces_pref, _ = extract_traces(r1, stim, neuron, pref_stim, settings)\n",
    "        for it in range(settings['n_items']):\n",
    "            for tr in range(traces_pref[it].shape[1]):\n",
    "                pref = traces_pref[it][:,tr]\n",
    "                traces_all[it].append(pref)\n",
    "\n",
    "        #print(traces_all[0])\n",
    "        # Extract spiking information\n",
    "        spike_times = []\n",
    "        counter = 0\n",
    "        hbars = []\n",
    "        r_im = np.concatenate([traces_all[i][::plt_tr_int] for i in range(4)], axis = 0)\n",
    "        all_spikes, r = draw_spikes(r_im.T/spike_scale, 0, r_im.shape[1])\n",
    "        spike_times = [np.arange(0,r_im.shape[1])[spikes] for spikes in all_spikes]\n",
    "        spike_colors = []\n",
    "        for i in range(settings['n_items']):\n",
    "            for tr in range(np.array(traces_all[i][::plt_tr_int]).shape[0]):\n",
    "                spike_colors.append('black')\n",
    "\n",
    "        ax0 = plt.subplot(gs[0])\n",
    "        # Spike raster plot\n",
    "        ax0.eventplot(spike_times, color = spike_colors, linelengths=spikesize, linewidths=spikesize);\n",
    "        \n",
    "        for i in np.flip(np.arange(4)):\n",
    "            meantr = np.mean(traces_all[i][::plt_tr_int], axis = 0)\n",
    "            meantr -= np.min(meantr)\n",
    "            meantr/=np.max(meantr) #to [0,1]\n",
    "            meantr*=len(traces_all[i][::plt_tr_int])*0.95 #scale to fit spike size\n",
    "            ax0.plot(np.arange(r_im.shape[1]), counter + meantr, color = pltcolors[i])\n",
    "\n",
    "            counter +=np.array(traces_all[i][::plt_tr_int]).shape[0]\n",
    "            hbars.append(counter-np.array(traces_all[i][::plt_tr_int]).shape[0]/2)\n",
    "            ax0.axvline(x=settings['stim_ons']+(i*(settings['stim_offs']+settings['stim_dur'])), \\\n",
    "                        color = 'black', linestyle = '--', alpha = 0.5, zorder=-1)\n",
    "\n",
    "        ax0.axvline(x=(delay_end ), color = 'black', linestyle = '--', alpha = 0.5, zorder=-1)\n",
    "        ax0.set_ylim(0,counter)\n",
    "        ax0.set_xlim(0,r_im.shape[1])\n",
    "        all_ind = np.arange(r_im.shape[1])\n",
    "        ind_start = settings['stim_ons']         \n",
    "        ticks =all_ind[ind_start::dt_sec]\n",
    "        ax0.set_xticks(ticks)\n",
    "        ax0.set_xticklabels([\"{:0.0f}\".format(lab) for lab in plt_time[ticks]])\n",
    "        ax0.set_xlabel(\"Time (s)\")\n",
    "\n",
    "\n",
    "        hbars_pos = [bar for bar in hbars]\n",
    "        ax0.set_yticks([])\n",
    "        if neui==0:\n",
    "            ax0.set_yticks(hbars_pos)\n",
    "            ax0.set_yticklabels(['Pos ' +str(i) for i in range(4)])\n",
    "        ax0.spines['right'].set_visible(False)\n",
    "        ax0.spines['top'].set_visible(False)\n",
    "        plt.savefig(\"../figures/single_unit\"+ str(neui)+\"fr\"+str(f)+\".svg\")"
   ]
  },
  {
   "attachments": {},
   "cell_type": "markdown",
   "metadata": {},
   "source": [
    "## Calculate variance explained"
   ]
  },
  {
   "cell_type": "code",
   "execution_count": 35,
   "metadata": {},
   "outputs": [],
   "source": [
    "delay_buffer1 = 25 \n",
    "delay_buffer2 = 25 \n",
    "nbins = 20\n",
    "freqs = [1,main_freq]#np.arange(0.5,4.6,0.4)#[0.5,1,1.5main_freq]"
   ]
  },
  {
   "cell_type": "code",
   "execution_count": 36,
   "metadata": {},
   "outputs": [
    {
     "name": "stdout",
     "output_type": "stream",
     "text": [
      "0.00% done\n"
     ]
    },
    {
     "name": "stderr",
     "output_type": "stream",
     "text": [
      "/opt/homebrew/Caskroom/miniforge/base/envs/PhaseC/lib/python3.10/site-packages/pycircstat/tests.py:416: UserWarning: Test not applicable. Average resultant vector length < 0.45.\n",
      "  warnings.warn(\n"
     ]
    },
    {
     "name": "stdout",
     "output_type": "stream",
     "text": [
      "10.00% done\n",
      "20.00% done\n",
      "30.00% done\n",
      "40.00% done\n",
      "50.00% done\n",
      "60.00% done\n",
      "70.00% done\n",
      "80.00% done\n",
      "90.00% done\n"
     ]
    }
   ],
   "source": [
    "# Calculate variance explained\n",
    "perms = list(set(permutations([1, 2, 3])))\n",
    "perms= np.array([[3,1,2],[1,3,2],[3,2,1],[2,3,1],[1,2,3],[2,1,3]])\n",
    "\n",
    "n_perm = 1\n",
    "\n",
    "t1 = delay_start + delay_buffer1 - settings[\"rand_ons\"]\n",
    "t2 = delay_end - delay_buffer2 - settings[\"rand_ons\"]\n",
    "delay_time = time[t1:t2]\n",
    "neurons_plot = ranked_neurons[-int(np.sum(d_primes > cutoff_d)):]\n",
    "numplot = len(neurons_plot)\n",
    "for f in freqs:\n",
    "    if dt_sec / f < nbins:\n",
    "        print(\"Warning: too much bins for f = \" + str(f))\n",
    "\n",
    "bin_lims = np.linspace(-np.pi, np.pi, nbins + 1)\n",
    "bin_centers = bin_lims[:-1] + np.pi / nbins\n",
    "width = 2 * np.pi / (nbins)\n",
    "\n",
    "vex = np.zeros((len(freqs), N))\n",
    "shvex = np.zeros((len(freqs), N))\n",
    "shuffle_ind = np.random.choice(np.arange(n_items), (n_trials, n_perm))\n",
    "\n",
    "\n",
    "\n",
    "n_match=np.zeros((len(freqs),6))\n",
    "for neui, neuron in enumerate(neurons_plot):\n",
    "\n",
    "    if neui % 10 == 0:\n",
    "        print(\"{:.2f}% done\".format(100 * neui / len(neurons_plot)))\n",
    "\n",
    "    pref_stim = prefered_stim[neuron]\n",
    "    pref_r, _, LFPs = extract_traces(\n",
    "        r1, stim, neuron, pref_stim, settings, True, var, onlyGaba\n",
    "    )\n",
    "    for fi, f in enumerate(freqs):\n",
    "\n",
    "        watsdat = []\n",
    "        watsw = []\n",
    "        watsw_shuffle = [[] for _ in range(n_perm)]\n",
    "        spikephasehist_shuffle = np.zeros((4, nbins, n_perm))\n",
    "        counter = 0\n",
    "        cwt = complex_wavelet(timestep, f, 7)\n",
    "        shuffle_ind[:,1:] = np.random.choice(np.arange(n_items), (n_trials, n_perm-1))\n",
    "        avgs=np.zeros(4)\n",
    "        \n",
    "        for stim_pos in range(settings[\"n_items\"]):\n",
    "            spikephasehist = np.zeros(nbins)\n",
    "            for tr in range(np.array(LFPs[stim_pos]).shape[1]):\n",
    "                if ref_phase == \"sine\":\n",
    "                    LFP_phase = wrap(time * 2 * np.pi * f)\n",
    "                elif ref_phase == \"LFP\":\n",
    "                    LFP_phase, _ = inst_phase(\n",
    "                        LFPs[stim_pos][:, tr], cwt, time, f, ref_phase=False\n",
    "                    )\n",
    "                else:\n",
    "                    print(\"WARNING: reference phase not recognised!\")\n",
    "\n",
    "                bin_ind = np.digitize(LFP_phase[t1:t2], bin_lims) - 1\n",
    "                firing_trace = pref_r[stim_pos][t1:t2, tr]\n",
    "                for b in range(nbins):\n",
    "                    summed_spikes = np.sum(firing_trace[bin_ind == b])\n",
    "                    occ = np.count_nonzero(bin_ind == b)\n",
    "                    if occ > 0:\n",
    "                        spikephasehist[b] += summed_spikes / occ\n",
    "                        for permi in range(n_perm):\n",
    "                            spikephasehist_shuffle[shuffle_ind[counter,permi], b, permi] += (\n",
    "                                summed_spikes / occ\n",
    "                            )\n",
    "                counter += 1\n",
    "            avg, avglen = circ_mean(bin_centers, spikephasehist)\n",
    "            watsw.append(np.array(spikephasehist))\n",
    "            watsdat.append(bin_centers)\n",
    "            avgs[stim_pos]=avg\n",
    "        #print(avgs)\n",
    "        # Calculate amount matching certain stim order\n",
    "        avgs -= avgs[0]\n",
    "        avgs[avgs < 0] += np.pi * 2\n",
    "        for permi, perm in enumerate(perms):\n",
    "            if (np.argsort(avgs)[1:] == np.array(perm)).all():\n",
    "                n_match[fi, permi] += 1\n",
    "                #print(\"neuron no: \" + str(neuron) + \"phase order \" + str(permi))\n",
    "\n",
    "\n",
    "        for stim_pos in range(settings[\"n_items\"]):\n",
    "            for permi in range(n_perm):\n",
    "                watsw_shuffle[permi].append(np.array(spikephasehist_shuffle[stim_pos, :, permi]))\n",
    "\n",
    "        anovatable = watson_williams_test(\n",
    "            bin_centers, bin_centers, bin_centers, bin_centers, w=watsw_shuffle[0]\n",
    "        )[1]\n",
    "        shvex[fi, neuron] = anovatable[\"SS\"][0] / anovatable[\"SS\"][2]\n",
    "\n",
    "        anovatable = watson_williams_test(\n",
    "            watsdat[0], watsdat[1], watsdat[2], watsdat[3], w=watsw\n",
    "        )[1]\n",
    "        vex[fi, neuron] = anovatable[\"SS\"][0] / anovatable[\"SS\"][2]\n",
    "\n",
    "vex_fr_ind = np.argmax(np.sum(vex, axis=1))\n",
    "vex_fr = freqs[vex_fr_ind]"
   ]
  },
  {
   "cell_type": "code",
   "execution_count": 37,
   "metadata": {},
   "outputs": [
    {
     "name": "stdout",
     "output_type": "stream",
     "text": [
      "[[18. 13. 15. 20. 22. 12.]\n",
      " [ 7. 54.  6. 13.  1. 19.]]\n",
      "[[3 1 2]\n",
      " [1 3 2]\n",
      " [3 2 1]\n",
      " [2 3 1]\n",
      " [1 2 3]\n",
      " [2 1 3]]\n",
      "3.83827348968414\n"
     ]
    }
   ],
   "source": [
    "print(n_match)\n",
    "print(perms)\n",
    "print(vex_fr)"
   ]
  },
  {
   "attachments": {},
   "cell_type": "markdown",
   "metadata": {},
   "source": [
    "## Figure 5e: 'spike' phase histograms"
   ]
  },
  {
   "cell_type": "code",
   "execution_count": 38,
   "metadata": {},
   "outputs": [
    {
     "name": "stderr",
     "output_type": "stream",
     "text": [
      "The PostScript backend does not support transparency; partially transparent artists will be rendered opaque.\n"
     ]
    },
    {
     "data": {
      "image/png": "[encoded data removed]",
      "text/plain": [
       "<Figure size 700x700 with 8 Axes>"
      ]
     },
     "metadata": {},
     "output_type": "display_data"
    }
   ],
   "source": [
    "# Plot 'spike' phase histograms\n",
    "\n",
    "\n",
    "nbins = 20\n",
    "vex_ind = np.argsort(vex[vex_fr_ind])[-np.sum(d_primes > cutoff_d) :]\n",
    "ind = [-2, -1]\n",
    "plt_neurons = vex_ind[ind] \n",
    "\n",
    "\n",
    "f = vex_fr  # main_freq\n",
    "cwt = complex_wavelet(timestep, f, 7)\n",
    "\n",
    "\n",
    "delay_time = time[t1:t2]\n",
    "bin_lims = np.linspace(-np.pi, np.pi, nbins + 1)\n",
    "bin_centers = bin_lims[:-1] + np.pi / nbins\n",
    "width = 2 * np.pi / (nbins)\n",
    "circ_ticks = np.arange(-np.pi, np.pi, np.pi / 2)\n",
    "circ_ticklabs = [\"-pi\", \"-pi/2\", \"0\", \"pi/2\"]\n",
    "\n",
    "\n",
    "with mpl.rc_context(fname=\"matplotlibrc\"):\n",
    "\n",
    "    fig = plt.figure(figsize=(7, 7))\n",
    "    gs = gridspec.GridSpec(4, 2)\n",
    "    for neui, neuron in enumerate(plt_neurons):\n",
    "\n",
    "        # Extract traces of pref stim\n",
    "        traces_all = [[] for i in np.arange(4)]\n",
    "        pref_stim = prefered_stim[neuron]\n",
    "        traces_pref, _, LFPs = extract_traces(\n",
    "            r1, stim, neuron, pref_stim, settings, True, var, onlyGaba\n",
    "        )\n",
    "        for it in range(settings[\"n_items\"]):\n",
    "            for tr in range(traces_pref[it].shape[1]):\n",
    "                pref = traces_pref[it][:, tr]\n",
    "                traces_all[it].append(pref)\n",
    "\n",
    "        # Extract Histogram information and plot Histogram\n",
    "\n",
    "        maxh = np.zeros(4)\n",
    "        avgs = np.zeros(4)\n",
    "        for stim_pos in np.arange(settings[\"n_items\"]):\n",
    "            ax1 = plt.subplot(gs[stim_pos, neui])\n",
    "\n",
    "            spikephasehist = np.zeros(nbins)\n",
    "            for tr in range(np.array(traces_pref[stim_pos]).shape[1]):\n",
    "                if ref_phase == \"sine\":\n",
    "                    LFP_phase = wrap(time * 2 * np.pi * f)\n",
    "                elif ref_phase == \"LFP\":\n",
    "                    LFP_phase, _ = inst_phase(\n",
    "                        LFPs[stim_pos][:, tr], cwt, time, f, ref_phase=False\n",
    "                    )\n",
    "                else:\n",
    "                    print(\"WARNING: reference phase not recognised!\")\n",
    "                bin_ind = np.digitize(LFP_phase[t1:t2], bin_lims) - 1\n",
    "                firing_trace = traces_pref[stim_pos][t1:t2, tr]\n",
    "                for b in range(nbins):\n",
    "                    summed_spikes = np.sum(firing_trace[bin_ind == b])\n",
    "                    occ = np.count_nonzero(bin_ind == b)\n",
    "                    if occ > 0:\n",
    "                        spikephasehist[b] += summed_spikes / occ\n",
    "            spikephasehist /= np.sum(spikephasehist)\n",
    "            avg, avglen = circ_mean(bin_centers, spikephasehist)\n",
    "            avg += np.pi\n",
    "            avg /= np.pi * 2\n",
    "            avg /= 1.5\n",
    "            maxh[stim_pos] = max(spikephasehist)\n",
    "            avgs[stim_pos] = avg\n",
    "\n",
    "            ax1.bar(\n",
    "                np.concatenate([bin_centers, (bin_centers + np.pi * 2)[: -nbins // 3]]),\n",
    "                np.concatenate([spikephasehist, spikephasehist[: -nbins // 3]]),\n",
    "                width=width,\n",
    "                color=pltcolors[stim_pos],\n",
    "                ec=pltcolors[stim_pos],\n",
    "                linewidth=3,\n",
    "                alpha=0.9,\n",
    "                label=\"Pos:\" + str(stim_pos + 1),\n",
    "            ) \n",
    "            \n",
    "            ax1.axhline(\n",
    "                (maxh[stim_pos]) * 1.1,\n",
    "                avgs[stim_pos] - 0.04,\n",
    "                avgs[stim_pos] + 0.04,\n",
    "                color=pltcolors[stim_pos],\n",
    "                linewidth=3,\n",
    "            )  \n",
    "            ax1.set_xticks([])\n",
    "            ax1.set_xlim(circ_ticks[0], (bin_centers + np.pi * 2)[-nbins // 3])\n",
    "            ax1.set_xticklabels([])\n",
    "            if stim_pos == 0:\n",
    "                ax1.set_title(\"VEX = {:.2f}\".format(vex[vex_fr_ind, neuron]))\n",
    "            if neui == 0:\n",
    "                ax1.set_ylabel(\"density\") \n",
    "\n",
    "        \n",
    "            ax1.spines[\"right\"].set_visible(False)\n",
    "            ax1.spines[\"top\"].set_visible(False)\n",
    "        ax1.set_xticks(circ_ticks)\n",
    "        ax1.set_xticklabels(circ_ticklabs)\n",
    "    plt.savefig(\"../figures/spike_phase_hist_fr\"+str(f)+\".eps\", transparent=False)"
   ]
  },
  {
   "cell_type": "code",
   "execution_count": 39,
   "metadata": {},
   "outputs": [
    {
     "data": {
      "image/png": "[encoded data removed]",
      "text/plain": [
       "<Figure size 320x270 with 1 Axes>"
      ]
     },
     "metadata": {},
     "output_type": "display_data"
    }
   ],
   "source": [
    "# Plot Kappa per frequency, upper versus lower percentile d'\n",
    "\n",
    "shcolors = [[0.8,0.8,0.8],[0.7,0.7,0.7],[0.6,0.6,0.6],[0.5,0.5,0.5]]\n",
    "\n",
    "\n",
    "\n",
    "with mpl.rc_context(fname=\"matplotlibrc\"):\n",
    "\n",
    "    fig, axs = plt.subplots(1, figsize=(3.2, 2.7))\n",
    "    fig.tight_layout()\n",
    "    axs.errorbar(\n",
    "        np.arange(len(freqs)),\n",
    "        np.mean(vex[-np.sum(d_primes > cutoff_d) :], axis=1),\n",
    "        np.std(vex[-np.sum(d_primes > cutoff_d) :], axis=1)/np.sqrt(len(vex[-np.sum(d_primes > cutoff_d) :])),\n",
    "        marker=\"o\",\n",
    "        color=pltcolors_alt[3],\n",
    "        zorder=i+5,\n",
    "        capsize=5,\n",
    "        elinewidth=2,\n",
    "        markeredgewidth=2,\n",
    "    )  \n",
    "\n",
    "    axs.set_yticks(np.arange(0, 0.1, 0.05))\n",
    "\n",
    "    axs.set_xticks(np.arange(len(freqs))[::2])\n",
    "    axs.set_xticklabels([\"{:.1f}\".format(fr) for fr in freqs[::2]])\n",
    "    axs.spines[\"right\"].set_visible(False)\n",
    "    axs.spines[\"top\"].set_visible(False)\n",
    "    axs.set_ylabel(\"VEX\")\n",
    "    axs.set_xlabel(\"frequency (Hz)\")\n",
    "\n",
    "    handles, labels = axs.get_legend_handles_labels()\n",
    "    # remove the errorbars\n",
    "    handles = [h[0] for h in handles]\n",
    "    # use them in the legend\n",
    "    plt.legend(\n",
    "        handles, labels, numpoints=1, loc=\"upper right\", bbox_to_anchor=(1.4, 1.1)\n",
    "    )\n",
    "    #plt.savefig(\"../figures/SummF\", facecolor=\"None\", transparent=True)\n",
    "    #plt.savefig(\"../figures/Kappa_per_F_and_Perc.eps\")\n",
    "    plt.savefig(\"../figures/vex.svg\")"
   ]
  },
  {
   "cell_type": "code",
   "execution_count": 40,
   "metadata": {},
   "outputs": [
    {
     "ename": "NameError",
     "evalue": "name 'stop' is not defined",
     "output_type": "error",
     "traceback": [
      "\u001b[0;31m---------------------------------------------------------------------------\u001b[0m",
      "\u001b[0;31mNameError\u001b[0m                                 Traceback (most recent call last)",
      "\u001b[1;32m/Users/matthijs/sequence-memory/rnn_model/generate_figures/fig_5_b_to_e.ipynb Cell 53\u001b[0m in \u001b[0;36m1\n\u001b[0;32m----> <a href='vscode-notebook-cell:/Users/matthijs/sequence-memory/rnn_model/generate_figures/fig_5_b_to_e.ipynb#Y306sZmlsZQ%3D%3D?line=0'>1</a>\u001b[0m stop\n",
      "\u001b[0;31mNameError\u001b[0m: name 'stop' is not defined"
     ]
    }
   ],
   "source": [
    "stop"
   ]
  },
  {
   "cell_type": "code",
   "execution_count": null,
   "metadata": {},
   "outputs": [],
   "source": [
    "# Plot 'spike' phase histograms\n",
    "\"\"\"\n",
    "\n",
    "nbins = 20\n",
    "\n",
    "plt_neurons =np.arange(200)[d_primes > cutoff_d]\n",
    "\n",
    "\n",
    "f = vex_fr  # main_freq\n",
    "cwt = complex_wavelet(timestep, f, 7)\n",
    "\n",
    "\n",
    "delay_time = time[t1:t2]\n",
    "bin_lims = np.linspace(-np.pi, np.pi, nbins + 1)\n",
    "bin_centers = bin_lims[:-1] + np.pi / nbins\n",
    "width = 2 * np.pi / (nbins)\n",
    "circ_ticks = np.arange(-np.pi, np.pi, np.pi / 2)\n",
    "circ_ticklabs = [\"-pi\", \"-pi/2\", \"0\", \"pi/2\"]\n",
    "# For counting Percentage matching order\n",
    "perms = list(set(permutations([1, 2, 3])))\n",
    "perms= np.array([[3,1,2],[1,3,2],[3,2,1],[2,3,1],[1,2,3],[2,1,3]])\n",
    "\n",
    "n_match = np.zeros(len(perms))\n",
    "\n",
    "\n",
    "\n",
    "for neui, neuron in enumerate(plt_neurons):\n",
    "\n",
    "    # Extract traces of pref stim\n",
    "    traces_all = [[] for i in np.arange(4)]\n",
    "    pref_stim = prefered_stim[neuron]\n",
    "    traces_pref, _, LFPs = extract_traces(\n",
    "        r1, stim, neuron, pref_stim, settings, True, var, onlyGaba\n",
    "    )\n",
    "    for it in range(settings[\"n_items\"]):\n",
    "        for tr in range(traces_pref[it].shape[1]):\n",
    "            pref = traces_pref[it][:, tr]\n",
    "            traces_all[it].append(pref)\n",
    "\n",
    "    # Extract Histogram information and plot Histogram\n",
    "\n",
    "    maxh = np.zeros(4)\n",
    "    avgs = np.zeros(4)\n",
    "    for stim_pos in np.arange(settings[\"n_items\"]):\n",
    "\n",
    "        spikephasehist = np.zeros(nbins)\n",
    "        for tr in range(np.array(traces_pref[stim_pos]).shape[1]):\n",
    "            if ref_phase == \"sine\":\n",
    "                LFP_phase = wrap(time * 2 * np.pi * f)\n",
    "            elif ref_phase == \"LFP\":\n",
    "                LFP_phase, _ = inst_phase(\n",
    "                    LFPs[stim_pos][:, tr], cwt, time, f, ref_phase=False\n",
    "                )\n",
    "            else:\n",
    "                print(\"WARNING: reference phase not recognised!\")\n",
    "            bin_ind = np.digitize(LFP_phase[t1:t2], bin_lims) - 1\n",
    "            firing_trace = traces_pref[stim_pos][t1:t2, tr]\n",
    "            for b in range(nbins):\n",
    "                summed_spikes = np.sum(firing_trace[bin_ind == b])\n",
    "                occ = np.count_nonzero(bin_ind == b)\n",
    "                if occ > 0:\n",
    "                    spikephasehist[b] += summed_spikes / occ\n",
    "        spikephasehist /= np.sum(spikephasehist)\n",
    "        avg, avglen = circ_mean(bin_centers, spikephasehist)\n",
    "        avg += np.pi\n",
    "        avg /= np.pi * 2\n",
    "        avg /= 1.5\n",
    "        maxh[stim_pos] = max(spikephasehist)\n",
    "        avgs[stim_pos] = avg\n",
    "\n",
    "    # Calculate order of phases\n",
    "    phase_order = np.argsort(avgs)\n",
    "\n",
    "    # Calculate amount matching certain stim order\n",
    "    avgs -= avgs[0]\n",
    "    avgs[avgs < 0] += np.pi * 2\n",
    "    for permi, perm in enumerate(perms):\n",
    "        if (np.argsort(avgs)[1:] == np.array(perm)).all():\n",
    "            n_match[permi] += 1\n",
    "            #print(\"neuron no: \" + str(neuron) + \"phase order \" + str(permi))\n",
    "\n",
    "\n",
    "\n",
    "\"\"\";\n"
   ]
  },
  {
   "cell_type": "code",
   "execution_count": null,
   "metadata": {
    "scrolled": true
   },
   "outputs": [],
   "source": [
    "stim.shape"
   ]
  },
  {
   "cell_type": "code",
   "execution_count": null,
   "metadata": {},
   "outputs": [],
   "source": [
    "f = vex_fr#var['lossF'][0][0]\n",
    "#f=1.25\n",
    "#f=1.5\n",
    "period= int(1000/(f*settings['deltaT']))"
   ]
  },
  {
   "cell_type": "code",
   "execution_count": null,
   "metadata": {},
   "outputs": [],
   "source": [
    "f"
   ]
  },
  {
   "cell_type": "code",
   "execution_count": null,
   "metadata": {},
   "outputs": [],
   "source": [
    "all_trials = np.array(list(all_trials))\n",
    "np.sum(all_trials[:,0]==4)"
   ]
  },
  {
   "cell_type": "code",
   "execution_count": null,
   "metadata": {},
   "outputs": [],
   "source": [
    "np.sum(all_trials==4,axis=1).astype(bool)"
   ]
  },
  {
   "cell_type": "code",
   "execution_count": null,
   "metadata": {},
   "outputs": [],
   "source": [
    "(2*20/period)"
   ]
  },
  {
   "cell_type": "code",
   "execution_count": null,
   "metadata": {},
   "outputs": [],
   "source": [
    "ph_inc = (2*20/period)*2*np.pi\n",
    "print(ph_inc)"
   ]
  },
  {
   "attachments": {},
   "cell_type": "markdown",
   "metadata": {},
   "source": [
    "### Set up a regression analysis"
   ]
  },
  {
   "cell_type": "code",
   "execution_count": null,
   "metadata": {},
   "outputs": [],
   "source": [
    "all_trials = set(permutations(np.arange(8), int(4)))\n",
    "all_trials = np.array(list(all_trials))\n",
    "period= int(1000/(f*settings['deltaT']))\n",
    "\n",
    "def get_W0(f,settings,net,rec_noise=0,stim_st=20, trial_dur=400,code_st=300,alpha=0.05,stim_dur=20,n_comp=5):\n",
    "\n",
    "    trials_inc = np.arange(len(all_trials))\n",
    "    batch_size = len(trials_inc) \n",
    "    settings[\"batch_size\"]=batch_size\n",
    "    period= int(1000/(f*settings['deltaT']))\n",
    "    \n",
    "    #-----\n",
    "    #ST1\n",
    "    inp = np.zeros((8,batch_size,trial_dur))\n",
    "    rstims = np.arange(0,8)\n",
    "    ph_inc = (2*stim_dur/period)*2*np.pi\n",
    "    #x shape (time, units, bs)\n",
    "\n",
    "    st=stim_st\n",
    "    y = np.zeros((period,8,batch_size))\n",
    "    \n",
    "    for i, trial_ind in enumerate(trials_inc):\n",
    "        st=stim_st\n",
    "        for pos_ind,st_ind in enumerate(all_trials[trial_ind]):\n",
    "            inp[st_ind,i,st:st+stim_dur]=1\n",
    "            y[pos_ind*8+st_ind,i]\n",
    "            st+=2*stim_dur\n",
    "            y[:,st_ind,i]=np.linspace(0,np.pi*2,period)-ph_inc*pos_ind\n",
    "\n",
    "    y=np.sin(y)\n",
    "    #Y[3*b_inc:]=0\n",
    "    net.rec_noise=rec_noise\n",
    "    x, r, o = net.predict(settings, inp)\n",
    "    sig2 = r[code_st:code_st+period,:,:]\n",
    "    X=sig2\n",
    "    Y=y\n",
    "    X=np.transpose(X,(2,0,1))\n",
    "    Y=np.transpose(Y,(2,0,1))\n",
    "    Y=Y.reshape(batch_size*period,8)\n",
    "    X=X.reshape(batch_size*period,200)       \n",
    "    pca = PCA(n_components=n_comp)\n",
    "    pca.fit(X)\n",
    "    print(pca.explained_variance_ratio_)\n",
    "    X_den = pca.transform(X)\n",
    "    clf = Ridge(alpha=alpha,fit_intercept=False)\n",
    "    clf.fit(X_den, Y)\n",
    "    return inp,y, x,clf.coef_,labels,pca\n",
    "\n"
   ]
  },
  {
   "cell_type": "code",
   "execution_count": null,
   "metadata": {},
   "outputs": [],
   "source": []
  },
  {
   "cell_type": "code",
   "execution_count": null,
   "metadata": {},
   "outputs": [],
   "source": [
    "all_trials = set(permutations(np.arange(8), int(4)))\n",
    "all_trials = np.array(list(all_trials))\n",
    "period= int(1000/(f*settings['deltaT']))\n",
    "\n",
    "def get_W0(f,settings,net,rec_noise=0,stim_st=20, trial_dur=450,code_st=300,alpha=0.05,stim_dur=20,n_comp=5):\n",
    "\n",
    "    trials_inc = np.arange(len(all_trials))\n",
    "    batch_size = len(trials_inc) \n",
    "    settings[\"batch_size\"]=batch_size\n",
    "    period= int(1000/(f*settings['deltaT']))\n",
    "    \n",
    "    #-----\n",
    "    #ST1\n",
    "    inp = np.zeros((8,batch_size,trial_dur))\n",
    "    rstims = np.arange(0,8)\n",
    "    ph_inc = (2*stim_dur/period)*2*np.pi\n",
    "    #x shape (time, units, bs)\n",
    "\n",
    "    st=stim_st\n",
    "    y = np.zeros((8*4,batch_size))\n",
    "\n",
    "    for i, trial_ind in enumerate(trials_inc):\n",
    "        st=stim_st\n",
    "        for pos_ind,st_ind in enumerate(all_trials[trial_ind]):\n",
    "            inp[st_ind,i,st:st+stim_dur]=1\n",
    "            y[pos_ind*8+st_ind,i]=1\n",
    "\n",
    "            st+=2*stim_dur\n",
    "\n",
    "    #Y[3*b_inc:]=0\n",
    "    net.rec_noise=rec_noise\n",
    "    x, r, o = net.predict(settings, inp)\n",
    "    sig2 = r[code_st:code_st+period,:,:]\n",
    "    X=sig2\n",
    "    Y=y.T\n",
    "    X=np.transpose(X,(2,0,1))\n",
    "    #Y=np.transpose(Y,(2,0,1))\n",
    "    #Y=Y.reshape(batch_size*period,8)\n",
    "    X=X.reshape(batch_size,period*200)       \n",
    "    pca = PCA(n_components=n_comp)\n",
    "    pca.fit(X)\n",
    "    print(pca.explained_variance_ratio_)\n",
    "    X_den = pca.transform(X)\n",
    "    clf = Ridge(alpha=alpha,fit_intercept=False)\n",
    "    print(X_den.shape)\n",
    "    print(Y.shape)\n",
    "    clf.fit(X_den, Y)\n",
    "    return inp,y, x,clf.coef_,labels,pca\n",
    "\n"
   ]
  },
  {
   "cell_type": "code",
   "execution_count": null,
   "metadata": {},
   "outputs": [],
   "source": [
    "f"
   ]
  },
  {
   "cell_type": "code",
   "execution_count": null,
   "metadata": {},
   "outputs": [],
   "source": [
    "inp,y, x,proj_w,labels,pca=get_W0(f,settings,net,alpha=0,n_comp=100)\n"
   ]
  },
  {
   "cell_type": "code",
   "execution_count": null,
   "metadata": {},
   "outputs": [],
   "source": [
    "plt.plot(y[:,1])"
   ]
  },
  {
   "cell_type": "code",
   "execution_count": null,
   "metadata": {},
   "outputs": [],
   "source": [
    "y.shape"
   ]
  },
  {
   "cell_type": "code",
   "execution_count": null,
   "metadata": {},
   "outputs": [],
   "source": [
    "period= int(1000/(f*settings['deltaT']))\n",
    "\n",
    "n_trials = 1000\n",
    "X = x[-period:,:,:n_trials]\n",
    "Y = y[:,:n_trials].T\n",
    "\n",
    "X=np.transpose(X,(2,0,1))\n",
    "X=X.reshape(n_trials,200*period) \n",
    "n_comp=5\n",
    "pca = PCA(n_components=n_comp)\n",
    "pca.fit(X)\n",
    "Xt = pca.transform(X)\n",
    "w= np.linalg.inv(Xt.T@Xt)@Xt.T@Y\n",
    "ws=pca.components_.T@w\n",
    "#plt.plot(X@ws)\n",
    "plt.imshow((Xt@w)[:20])#,color='black')\n",
    "\n",
    "#plt.plot(Y)\n"
   ]
  },
  {
   "cell_type": "code",
   "execution_count": null,
   "metadata": {},
   "outputs": [],
   "source": [
    "plt.imshow(Y[:20])"
   ]
  },
  {
   "cell_type": "code",
   "execution_count": null,
   "metadata": {},
   "outputs": [],
   "source": [
    "Xt@w"
   ]
  },
  {
   "cell_type": "code",
   "execution_count": null,
   "metadata": {},
   "outputs": [],
   "source": [
    "plt.imshow(np.expand_dims(Y[:,0],0), aspect='auto')\n",
    "plt.colorbar()"
   ]
  },
  {
   "cell_type": "code",
   "execution_count": null,
   "metadata": {},
   "outputs": [],
   "source": [
    "X.shape"
   ]
  },
  {
   "cell_type": "code",
   "execution_count": null,
   "metadata": {},
   "outputs": [],
   "source": [
    "pca.components_.shape"
   ]
  },
  {
   "cell_type": "code",
   "execution_count": null,
   "metadata": {},
   "outputs": [],
   "source": [
    "w.shape"
   ]
  },
  {
   "cell_type": "code",
   "execution_count": null,
   "metadata": {},
   "outputs": [],
   "source": [
    "y.shape"
   ]
  },
  {
   "cell_type": "code",
   "execution_count": null,
   "metadata": {},
   "outputs": [],
   "source": [
    "plt.imshow(X)"
   ]
  },
  {
   "cell_type": "code",
   "execution_count": null,
   "metadata": {},
   "outputs": [],
   "source": [
    "pca.whiten"
   ]
  },
  {
   "cell_type": "code",
   "execution_count": null,
   "metadata": {},
   "outputs": [],
   "source": [
    "n_trials = 5\n",
    "X = x[:,:,:n_trials]\n",
    "Y = y[:,:,:n_trials]\n",
    "\n",
    "X=np.transpose(X,(2,0,1))\n",
    "Y=np.transpose(Y,(2,0,1))\n",
    "Y=Y.reshape(n_trials*period,8)\n",
    "X=X.reshape(n_trials*period,200) \n",
    "n_comp=60\n",
    "pca = PCA(n_components=n_comp)\n",
    "pca.fit(X)\n",
    "Xt = pca.transform(X)\n",
    "w= np.linalg.inv(Xt.T@Xt)@Xt.T@Y\n",
    "ws=pca.components_.T@w\n",
    "#plt.plot(X@ws)\n",
    "plt.plot(Xt@w,color='black')\n",
    "\n",
    "plt.plot(Y)\n"
   ]
  },
  {
   "cell_type": "code",
   "execution_count": null,
   "metadata": {},
   "outputs": [],
   "source": [
    "plt.imshow((Xt@w)[:period*3],aspect='auto')"
   ]
  },
  {
   "cell_type": "code",
   "execution_count": null,
   "metadata": {},
   "outputs": [],
   "source": [
    "plt.imshow(((X-np.mean(X,axis=0))@ws)[:period*3],aspect='auto')"
   ]
  },
  {
   "cell_type": "code",
   "execution_count": null,
   "metadata": {},
   "outputs": [],
   "source": [
    "plt.imshow(y[:,:,80].T,aspect='auto')"
   ]
  },
  {
   "cell_type": "code",
   "execution_count": null,
   "metadata": {},
   "outputs": [],
   "source": [
    "plt.imshow(inp[:,80],aspect='auto')"
   ]
  },
  {
   "cell_type": "code",
   "execution_count": null,
   "metadata": {},
   "outputs": [],
   "source": [
    "inp,y, x,proj_w,labels,pca=get_W0(f,settings,net,alpha=0,n_comp=100)\n"
   ]
  },
  {
   "cell_type": "code",
   "execution_count": null,
   "metadata": {},
   "outputs": [],
   "source": [
    "ws=proj_w@pca.components_\n"
   ]
  },
  {
   "cell_type": "code",
   "execution_count": null,
   "metadata": {},
   "outputs": [],
   "source": [
    "stim_input = np.zeros((8,1,800))\n",
    "st=200\n",
    "for i in range(2):\n",
    "    stim_input[i,0,st:st+20]=1\n",
    "    st+=200\n",
    "plt.plot(stim_input[:,0].T);\n",
    "settings['batch_size']=1\n",
    "x, r, o = net.predict(settings, stim_input)\n",
    "plt.figure()\n",
    "for i in range(8):\n",
    "    plt.plot((x[:,:,0]-np.mean(x[:,:,0],axis=0))@ws[i]/np.max(abs(x[:,:,0]@ws[0]))+2*i)\n",
    "    plt.plot((x[:,:,0]-np.mean(x[:,:,0],axis=0))@ws[0]/np.max(abs(x[:,:,0]@ws[0]))+2*i,color='grey',zorder=-1,alpha=0.5)\n",
    "plt.plot(stim_input[:,0].T,color='black',zorder=-2);\n"
   ]
  },
  {
   "cell_type": "code",
   "execution_count": null,
   "metadata": {},
   "outputs": [],
   "source": [
    "all_trials = set(permutations(np.arange(8), int(4)))\n",
    "all_trials = np.array(list(all_trials))\n",
    "period= int(1000/(f*settings['deltaT']))\n",
    "\n",
    "def get_W(stim_ind,f,settings,net,rec_noise=0,stim_st=20, trial_dur=400,code_st=300,alpha=0.05,stim_dur=20,n_comp=5):\n",
    "\n",
    "    trials_inc = np.arange(len(all_trials))[np.sum(all_trials==stim_ind,axis=1).astype(bool)]\n",
    "    batch_size= len(trials_inc)\n",
    "    \n",
    "    settings[\"batch_size\"]=batch_size\n",
    "    period= int(1000/(f*settings['deltaT']))\n",
    "    #-----\n",
    "    #ST1\n",
    "    inp = np.zeros((8,batch_size,trial_dur))\n",
    "    rstims = np.arange(0,8)\n",
    "    ph_inc = (2*stim_dur/period)*2*np.pi\n",
    "    y = np.tile(np.linspace(0,np.pi*2,period),(batch_size,1))\n",
    "    st=stim_st\n",
    "    \n",
    "    labels=np.zeros(batch_size)\n",
    "    for i, trial_ind in enumerate(trials_inc):\n",
    "        st=stim_st\n",
    "        for pos_ind in range(4):\n",
    "            st_ind = all_trials[trial_ind,pos_ind]\n",
    "            inp[st_ind,i,st:st+stim_dur]=1\n",
    "            if st_ind==stim_ind:\n",
    "                y[i]-=ph_inc*pos_ind\n",
    "                labels[i]=pos_ind\n",
    "            st+=2*stim_dur\n",
    "\n",
    "    y=np.sin(y)\n",
    "    #Y[3*b_inc:]=0\n",
    "    net.rec_noise=rec_noise\n",
    "    x, r, o = net.predict(settings, inp)\n",
    "    sig2 = r[code_st:code_st+period,:,:]\n",
    "    X=sig2\n",
    "    X=np.transpose(X,(2,0,1))\n",
    "    X=X.reshape(batch_size*period,200)\n",
    "    \n",
    "    \n",
    "    pca = PCA(n_components=n_comp)\n",
    "    pca.fit(X)\n",
    "    print(pca.explained_variance_ratio_)\n",
    "    X_den = pca.transform(X)\n",
    "    Y=y.reshape(batch_size*period,1) \n",
    "    clf = Ridge(alpha=alpha,fit_intercept=True)\n",
    "    clf.fit(X_den, Y)\n",
    "    return y, x,clf.coef_[0],labels,pca\n",
    "\n"
   ]
  },
  {
   "cell_type": "code",
   "execution_count": null,
   "metadata": {},
   "outputs": [],
   "source": [
    "ws=[]\n",
    "for i in range(8):\n",
    "    y, x,proj_w,labels,pca=get_W(i,f,settings,net,alpha=0,n_comp=10)\n",
    "    ws.append(pca.components_.T@proj_w)\n",
    "    print((pca.components_.T@proj_w).shape)\n",
    "    t2=-100\n",
    "    trials_inc = np.arange(len(all_trials))[np.sum(all_trials==i,axis=1).astype(bool)]\n",
    "    batch_size= len(trials_inc)\n",
    "    \n",
    "    for i in np.arange(batch_size)[labels==0]:\n",
    "        plt.plot(pca.transform(x[t2:t2+period,:,i])@proj_w,color='red',alpha=0.2)\n",
    "    for i in np.arange(batch_size)[labels==1]:\n",
    "        plt.plot(pca.transform(x[t2:t2+period,:,i])@proj_w,color='blue',alpha=0.2)\n",
    "    for i in np.arange(batch_size)[labels==2]:\n",
    "        plt.plot(pca.transform(x[t2:t2+period,:,i])@proj_w,color='green',alpha=0.2)"
   ]
  },
  {
   "cell_type": "code",
   "execution_count": null,
   "metadata": {},
   "outputs": [],
   "source": [
    "x.shape"
   ]
  },
  {
   "cell_type": "code",
   "execution_count": null,
   "metadata": {},
   "outputs": [],
   "source": [
    "stim_input = np.zeros((8,1,800))\n",
    "st=200\n",
    "for i in range(2):\n",
    "    stim_input[i,0,st:st+20]=1\n",
    "    st+=200\n",
    "plt.plot(stim_input[:,0].T);\n",
    "settings['batch_size']=1\n",
    "x, r, o = net.predict(settings, stim_input)\n",
    "plt.figure()\n",
    "for i in range(8):\n",
    "    plt.plot(x[:,:,0]@ws[i]/np.max(abs(x[:,:,0]@ws[i]))+2*i)\n",
    "    plt.plot(x[:,:,0]@ws[0]/np.max(abs(x[:,:,0]@ws[0]))+2*i,color='grey',zorder=-1,alpha=0.5)\n",
    "plt.plot(stim_input[:,0].T,color='black',zorder=-2);\n"
   ]
  },
  {
   "cell_type": "code",
   "execution_count": null,
   "metadata": {},
   "outputs": [],
   "source": [
    "ws = np.array(ws)\n",
    "ws/=np.linalg.norm(ws,axis=1,keepdims=True)"
   ]
  },
  {
   "cell_type": "code",
   "execution_count": null,
   "metadata": {},
   "outputs": [],
   "source": [
    "plt.imshow(ws@ws.T)\n",
    "plt.colorbar()"
   ]
  },
  {
   "cell_type": "code",
   "execution_count": null,
   "metadata": {},
   "outputs": [],
   "source": [
    "y = np.linspace(0,np.pi*2,period)\n",
    "plt.plot(np.sin(y))\n",
    "plt.plot(np.sin(y-0.67*np.pi*2))"
   ]
  },
  {
   "cell_type": "code",
   "execution_count": null,
   "metadata": {},
   "outputs": [],
   "source": [
    "batch_size = len(all_trials)//2\n",
    "for i in np.arange(batch_size)[labels==0]:\n",
    "    plt.plot(y[i],color='red',alpha=0.2)\n",
    "for i in np.arange(batch_size)[labels==1]:\n",
    "    plt.plot(y[i],color='blue',alpha=0.2)\n",
    "#for i in np.arange(batch_size)[labels==2]:\n",
    "#    plt.plot(x[t2:t2+period,:,i]@proj_w,color='green',alpha=0.2)"
   ]
  },
  {
   "cell_type": "code",
   "execution_count": null,
   "metadata": {},
   "outputs": [],
   "source": [
    "t2=300\n",
    "y, x,proj_w,labels,pca=get_W(0,f,settings,net,alpha=1,n_comp=5)\n",
    "plt.plot(x[t2:t2+period,::10,i],color='blue',alpha=0.05);\n",
    "plt.plot(y[i],color='black');\n",
    "plt.plot(pca.transform(x[t2:t2+period,:,i])@proj_w,color='red',alpha=1)\n",
    "\n",
    "X= x[t2:t2+period,:,i]\n",
    "Y = y[i]\n",
    "W = np.linalg.inv(X.T@X)@X.T@Y\n",
    "#plt.plot(x[t2:t2+period,:,i]@W,color='purple',alpha=1);\n"
   ]
  },
  {
   "cell_type": "code",
   "execution_count": null,
   "metadata": {},
   "outputs": [],
   "source": [
    "t2=300\n",
    "y, x,proj_w,labels,pca=get_W(0,f,settings,net,alpha=1,n_comp=5)\n",
    "plt.plot(x[t2:t2+period,::10,i],color='blue',alpha=0.05);\n",
    "plt.plot(y[i],color='black');\n",
    "plt.plot(x[t2:t2+period,:,i]@(pca.components_.T@proj_w),color='red',alpha=1)\n",
    "\n",
    "X= x[t2:t2+period,:,i]\n",
    "Y = y[i]\n",
    "W = np.linalg.inv(X.T@X)@X.T@Y\n",
    "#plt.plot(x[t2:t2+period,:,i]@W,color='purple',alpha=1);\n"
   ]
  },
  {
   "cell_type": "code",
   "execution_count": null,
   "metadata": {},
   "outputs": [],
   "source": [
    "for i in range(10):\n",
    "    plt.figure(figsize=(1,1))\n",
    "    plt.plot(x[t2:t2+period,::10,i],color='blue',alpha=0.05);\n",
    "    plt.plot(y[i],color='black');\n",
    "    plt.plot(pca.transform(x[t2:t2+period,:,i])@proj_w,color='red',alpha=1)\n",
    "    plt.title(labels[i])\n",
    "    #plt.plot(x[t2:t2+period,:,i]@W,color='purple',alpha=1);\n"
   ]
  },
  {
   "cell_type": "code",
   "execution_count": null,
   "metadata": {},
   "outputs": [],
   "source": [
    "n_features =200\n",
    "\n",
    "X= x[t2:t2+period,:n_features,i]\n",
    "Y = y[i]\n",
    "\n",
    "pca = PCA(n_components=5)\n",
    "pca.fit(X)\n",
    "print(np.sum(pca.explained_variance_ratio_))\n",
    "X_den = pca.transform(X)\n",
    "print(X_den.shape)\n",
    "\n",
    "\n",
    "W = np.linalg.inv(X_den.T@X_den)@X_den.T@Y\n",
    "\n",
    "\n",
    "plt.plot(X_den@W,color='purple',alpha=1, label='prediction');\n",
    "plt.plot(y[i],ls='--',color='orange',label='target');\n",
    "plt.legend()"
   ]
  },
  {
   "cell_type": "code",
   "execution_count": null,
   "metadata": {},
   "outputs": [],
   "source": [
    "u,s,v = np.linalg.svd(X.T@X)\n",
    "plt.plot(s[10:])"
   ]
  },
  {
   "cell_type": "code",
   "execution_count": null,
   "metadata": {},
   "outputs": [],
   "source": [
    "clf = Ridge(alpha=0,fit_intercept=False)\n",
    "clf.fit(X, Y)\n",
    "W=clf.coef_\n",
    "plt.plot(X@W,color='red',alpha=1)\n"
   ]
  },
  {
   "cell_type": "code",
   "execution_count": null,
   "metadata": {},
   "outputs": [],
   "source": [
    "for i in np.arange(batch_size)[labels==0]:\n",
    "    plt.plot(x[t2:t2+period,:,i]@proj_w,color='red',alpha=0.2)\n",
    "for i in np.arange(batch_size)[labels==1]:\n",
    "    plt.plot(x[t2:t2+period,:,i]@proj_w,color='blue',alpha=0.2)\n",
    "for i in np.arange(batch_size)[labels==2]:\n",
    "    plt.plot(x[t2:t2+period,:,i]@proj_w,color='green',alpha=0.2)"
   ]
  },
  {
   "cell_type": "code",
   "execution_count": null,
   "metadata": {},
   "outputs": [],
   "source": [
    "for i in np.arange(batch_size)[labels==2]:\n",
    "    plt.plot(x[t2:t2+period,:,i]@proj_w,color='green',alpha=0.2)"
   ]
  },
  {
   "cell_type": "code",
   "execution_count": null,
   "metadata": {},
   "outputs": [],
   "source": [
    "\n",
    "t2=-100\n",
    "#for i in range(batch_size//4):\n",
    "#    plt.plot(x[t2:t2+period,:,i]@proj_w,color='black',alpha=0.4)\n",
    "for i in range(batch_size//4,batch_size//2):\n",
    "    plt.plot(x[t2:t2+period,:,i]@proj_w,color='red',alpha=0.2)\n",
    "for i in range(batch_size//2,batch_size-batch_size//4):\n",
    "    plt.plot(x[t2:t2+period,:,i]@proj_w,color='blue',alpha=0.2)\n",
    "for i in range(batch_size-batch_size//4,batch_size):\n",
    "    plt.plot(x[t2:t2+period,:,i]@proj_w,color='green',alpha=0.2)"
   ]
  },
  {
   "cell_type": "code",
   "execution_count": null,
   "metadata": {},
   "outputs": [],
   "source": [
    "plt.plot(x[:,:,0]);"
   ]
  },
  {
   "cell_type": "code",
   "execution_count": null,
   "metadata": {},
   "outputs": [],
   "source": [
    "for i in range(batch_size//4):\n",
    "    plt.plot(x[:,:,i]@proj_w,color='black',alpha=0.4)\n",
    "for i in range(batch_size//4,batch_size//2):\n",
    "    plt.plot(x[:,:,i]@proj_w,color='red',alpha=0.2)\n",
    "for i in range(batch_size-batch_size//4):\n",
    "    \n",
    "\n",
    "    plt.plot(x[:,:,i]@proj_w,color='blue',alpha=0.2)\n",
    "for i in range(batch_size-batch_size//4,batch_size):\n",
    "    plt.plot(x[:,:,i]@proj_w,color='green',alpha=0.2)"
   ]
  },
  {
   "cell_type": "code",
   "execution_count": null,
   "metadata": {},
   "outputs": [],
   "source": [
    "#u,s,v = np.linalg.svd(x.reshape(-1,200))\n"
   ]
  },
  {
   "cell_type": "code",
   "execution_count": null,
   "metadata": {},
   "outputs": [],
   "source": [
    "#x.shape"
   ]
  },
  {
   "cell_type": "code",
   "execution_count": null,
   "metadata": {},
   "outputs": [],
   "source": [
    "#w_inp = np.copy(net.initializer['w_in'])\n",
    "ws=np.array(ws)\n",
    "#wss=np.concatenate([ws,w_inp.T])\n",
    "ws/=np.linalg.norm(ws,axis=1,keepdims=True)\n",
    "#wss/=np.linalg.norm(wss,axis=1,keepdims=True)"
   ]
  },
  {
   "cell_type": "code",
   "execution_count": null,
   "metadata": {},
   "outputs": [],
   "source": [
    "cov = ws@ws.T\n",
    "v = np.max(np.abs(cov))\n",
    "plt.imshow(cov,vmin=-v,vmax=v,cmap='coolwarm')\n",
    "plt.colorbar()"
   ]
  },
  {
   "cell_type": "code",
   "execution_count": null,
   "metadata": {},
   "outputs": [],
   "source": [
    "plt.scatter(ws[2],ws[7])"
   ]
  },
  {
   "cell_type": "code",
   "execution_count": null,
   "metadata": {},
   "outputs": [],
   "source": [
    "cov = np.cov(ws)\n",
    "v = np.max(np.abs(cov))\n",
    "plt.imshow(cov,vmin=-v,vmax=v,cmap='coolwarm')\n",
    "plt.colorbar()"
   ]
  },
  {
   "cell_type": "code",
   "execution_count": null,
   "metadata": {},
   "outputs": [],
   "source": [
    "plt.imshow(np.cov(ws))\n",
    "plt.colorbar()"
   ]
  },
  {
   "cell_type": "code",
   "execution_count": null,
   "metadata": {},
   "outputs": [],
   "source": [
    "plt.hist(ws[2])"
   ]
  },
  {
   "cell_type": "code",
   "execution_count": null,
   "metadata": {},
   "outputs": [],
   "source": [
    "net.rec_noise=0\n",
    "\n",
    "x, r, o = net.predict(settings, inp)\n"
   ]
  },
  {
   "cell_type": "code",
   "execution_count": null,
   "metadata": {},
   "outputs": [],
   "source": [
    "phases=np.expand_dims(np.arange(0,np.pi*2,np.pi*2/period),(1,2))\n",
    "phases=np.arange(0,np.pi*2,np.pi*2/period)\n",
    "sine = np.sin(phases)\n",
    "cosine = np.cos(phases)\n"
   ]
  },
  {
   "cell_type": "code",
   "execution_count": null,
   "metadata": {},
   "outputs": [],
   "source": [
    "t1=400\n",
    "t2=800\n",
    "\n",
    "sig1 = x[t1:t1+period,:,:]\n",
    "sig2 = x[t2:t2+period,:,:]\n",
    "\n",
    "plt.plot(x[t1:t2+period,::20,0])\n",
    "plt.plot(sine.flatten(),color='blue')\n",
    "plt.plot(cosine.flatten(),color='green')\n",
    "\n",
    "pr_sine1 = np.tensordot(sine,sig1,axes=((0),(0)))/period\n",
    "pr_cosine1 = np.tensordot(cosine,sig1,axes=((0),(0)))/period\n",
    "phase1 = np.arctan2(pr_sine1,pr_cosine1)\n",
    "rad1 = np.linalg.norm([pr_sine1,pr_cosine1],axis=0)\n",
    "\n",
    "pr_sine2 = np.tensordot(sine,sig2,axes=((0),(0)))/period\n",
    "pr_cosine2 = np.tensordot(cosine,sig2,axes=((0),(0)))/period\n",
    "phase2 = np.arctan2(pr_cosine2,pr_sine2)\n",
    "rad2 = np.linalg.norm([pr_sine2,pr_cosine2],axis=0)"
   ]
  },
  {
   "cell_type": "code",
   "execution_count": null,
   "metadata": {},
   "outputs": [],
   "source": [
    "Y.shape"
   ]
  },
  {
   "cell_type": "code",
   "execution_count": null,
   "metadata": {},
   "outputs": [],
   "source": [
    "sig2.shape"
   ]
  },
  {
   "cell_type": "code",
   "execution_count": null,
   "metadata": {},
   "outputs": [],
   "source": [
    "X=sig2\n",
    "X=np.transpose(X,(2,0,1))\n",
    "print(X.shape, Y.shape)\n",
    "X=X.reshape(batch_size*period,200)\n",
    "Y=Y.reshape(batch_size*period,1)"
   ]
  },
  {
   "cell_type": "code",
   "execution_count": null,
   "metadata": {},
   "outputs": [],
   "source": [
    "clf = Ridge(alpha=0.05,fit_intercept=False)\n",
    "clf.fit(X, Y)\n",
    "\n",
    "w=np.linalg.inv(X.T@X)@X.T@Y"
   ]
  },
  {
   "cell_type": "code",
   "execution_count": null,
   "metadata": {},
   "outputs": [],
   "source": [
    "clf.coef_.shape"
   ]
  },
  {
   "cell_type": "code",
   "execution_count": null,
   "metadata": {},
   "outputs": [],
   "source": [
    "proj_w=w\n",
    "#proj_w=clf.coef_[0]"
   ]
  },
  {
   "cell_type": "code",
   "execution_count": null,
   "metadata": {},
   "outputs": [],
   "source": [
    "for i in range(128//4,128//2):\n",
    "    plt.plot(x[t2:t2+period,:,i]@proj_w,color='black',alpha=0.4)"
   ]
  },
  {
   "cell_type": "code",
   "execution_count": null,
   "metadata": {},
   "outputs": [],
   "source": [
    "for i in range(batch_size//4):\n",
    "    plt.plot(x[t2:t2+period,:,i]@proj_w,color='black',alpha=0.4)\n",
    "for i in range(batch_size//4,batch_size//2):\n",
    "    plt.plot(x[t2:t2+period,:,i]@proj_w,color='red',alpha=0.2)\n",
    "for i in range(batch_size//2,batch_size-batch_size//4):\n",
    "    plt.plot(x[t2:t2+period,:,i]@proj_w,color='blue',alpha=0.2)"
   ]
  },
  {
   "cell_type": "code",
   "execution_count": null,
   "metadata": {},
   "outputs": [],
   "source": [
    "for i in range(batch_size//4):\n",
    "    plt.plot(x[:,:,i]@proj_w,color='black',alpha=0.4)\n",
    "for i in range(batch_size//4,batch_size//2):\n",
    "    plt.plot(x[:,:,i]@proj_w,color='red',alpha=0.2)\n",
    "for i in range(batch_size//2,batch_size-batch_size//4):\n",
    "    plt.plot(x[:,:,i]@proj_w,color='blue',alpha=0.2)\n",
    "for i in range(batch_size-batch_size//4,batch_size):\n",
    "    plt.plot(x[:,:,i]@proj_w,color='green',alpha=0.2)"
   ]
  },
  {
   "cell_type": "code",
   "execution_count": null,
   "metadata": {},
   "outputs": [],
   "source": [
    "np.linalg.norm([clf.coef_[0,::2],clf.coef_[0,1::2]],axis=0).shape"
   ]
  },
  {
   "cell_type": "code",
   "execution_count": null,
   "metadata": {},
   "outputs": [],
   "source": [
    "clf.coef_[1]@clf.coef_[0]"
   ]
  },
  {
   "cell_type": "code",
   "execution_count": null,
   "metadata": {},
   "outputs": [],
   "source": [
    "plt.hist(np.linalg.norm([clf.coef_[0,::2],clf.coef_[0,1::2]],axis=0),bins=25);"
   ]
  },
  {
   "cell_type": "code",
   "execution_count": null,
   "metadata": {},
   "outputs": [],
   "source": [
    "plt.hist(w)"
   ]
  },
  {
   "cell_type": "code",
   "execution_count": null,
   "metadata": {},
   "outputs": [],
   "source": [
    "plt.hist(w)"
   ]
  },
  {
   "cell_type": "code",
   "execution_count": null,
   "metadata": {},
   "outputs": [],
   "source": [
    "circ_means = np.zeros(200)\n",
    "for i in range(200):\n",
    "    circ_means[i]=circ_mean(phase1[i],rad1[i])[1]\n",
    "plt.hist(circ_means)\n",
    "for i in range(200):\n",
    "    circ_means[i]=circ_mean(phase2[i],rad2[i])[1]\n",
    "plt.hist(circ_means,color='blue',alpha=0.5)"
   ]
  },
  {
   "cell_type": "code",
   "execution_count": null,
   "metadata": {},
   "outputs": [],
   "source": [
    "circ_means"
   ]
  },
  {
   "cell_type": "code",
   "execution_count": null,
   "metadata": {},
   "outputs": [],
   "source": [
    "for i in range(10):\n",
    "    plt.figure()\n",
    "    plt.scatter(pr_cosine1[i],pr_sine1[i])"
   ]
  },
  {
   "cell_type": "code",
   "execution_count": null,
   "metadata": {},
   "outputs": [],
   "source": [
    "for i in range(100):\n",
    "    plt.figure()\n",
    "    plt.scatter(pr_cosine2[i],pr_sine2[i])"
   ]
  },
  {
   "cell_type": "code",
   "execution_count": null,
   "metadata": {},
   "outputs": [],
   "source": [
    "np.sum(np.mean(men,axis=0)<.002)"
   ]
  },
  {
   "cell_type": "code",
   "execution_count": null,
   "metadata": {},
   "outputs": [],
   "source": [
    "men=np.mean(x[:,:,:],axis=-1)\n",
    "plt.plot(men,color='black',alpha=0.01);"
   ]
  },
  {
   "cell_type": "code",
   "execution_count": null,
   "metadata": {},
   "outputs": [],
   "source": [
    "plt.hist(np.var(rad1,axis = 1))\n",
    "plt.hist(np.var(rad2,axis = 1),alpha = 0.4, color = 'blue')"
   ]
  },
  {
   "cell_type": "code",
   "execution_count": null,
   "metadata": {},
   "outputs": [],
   "source": [
    "plt.hist(np.var(phase1,axis = 1))\n",
    "plt.hist(np.var(phase2,axis = 1),alpha = 0.4, color = 'blue')"
   ]
  },
  {
   "cell_type": "code",
   "execution_count": null,
   "metadata": {},
   "outputs": [],
   "source": [
    "plt.hist(phase1[0])"
   ]
  },
  {
   "cell_type": "code",
   "execution_count": null,
   "metadata": {},
   "outputs": [],
   "source": [
    "np.var(phase2,axis = 1)"
   ]
  },
  {
   "cell_type": "code",
   "execution_count": null,
   "metadata": {},
   "outputs": [],
   "source": [
    "np.var(phase1)"
   ]
  },
  {
   "cell_type": "code",
   "execution_count": null,
   "metadata": {},
   "outputs": [],
   "source": [
    "np.var(phase1,axis = 1).shape"
   ]
  },
  {
   "cell_type": "code",
   "execution_count": null,
   "metadata": {},
   "outputs": [],
   "source": [
    "net.rec_noise=0.05\n"
   ]
  },
  {
   "cell_type": "code",
   "execution_count": null,
   "metadata": {},
   "outputs": [],
   "source": [
    "neuron_ind = np.random.randint\n",
    "plt.hist(np.var(phase1,axis = 1))\n",
    "plt.hist(np.var(phase2,axis = 1),alpha = 0.4, color = 'blue')"
   ]
  },
  {
   "cell_type": "code",
   "execution_count": null,
   "metadata": {},
   "outputs": [],
   "source": [
    "neuron_ind = np.random.randint(200)\n",
    "plt.hist(phase1[neuron_ind])\n",
    "plt.hist(phase2[neuron_ind],alpha = 0.4, color = 'blue')"
   ]
  },
  {
   "cell_type": "code",
   "execution_count": null,
   "metadata": {},
   "outputs": [],
   "source": [
    "plt.hist(np.var(phase1,axis = 1)-np.var(phase2,axis = 1))"
   ]
  },
  {
   "cell_type": "code",
   "execution_count": null,
   "metadata": {},
   "outputs": [],
   "source": [
    "np.mean(phase1,axis = 1)\n",
    "#np.var(phase1,axis = 1)"
   ]
  },
  {
   "cell_type": "code",
   "execution_count": null,
   "metadata": {},
   "outputs": [],
   "source": [
    "np.mean(rad1,axis = 1)\n",
    "np.var(rad1,axis = 1)"
   ]
  },
  {
   "cell_type": "code",
   "execution_count": null,
   "metadata": {},
   "outputs": [],
   "source": [
    "ph_0=0\n",
    "ph_sh = 3\n",
    "\n",
    "for i in range(6):\n",
    "    ph_02=i\n",
    "    ph_sh2 = 3\n",
    "\n",
    "    X = np.array([[np.sin(ph_0+i*ph_sh),np.cos(ph_0+i*ph_sh)] for i in range(4)])\n",
    "    Y = np.array([[np.sin(ph_02+i*ph_sh2)] for i in range(4)])\n",
    "    W=np.linalg.inv(X.T@X)@X.T@Y\n",
    "    print(np.linalg.norm([W[0],W[1]]),W)\n",
    "#print(W)"
   ]
  },
  {
   "cell_type": "code",
   "execution_count": null,
   "metadata": {},
   "outputs": [],
   "source": [
    "print(X@W-Y)"
   ]
  },
  {
   "cell_type": "code",
   "execution_count": null,
   "metadata": {},
   "outputs": [],
   "source": []
  }
 ],
 "metadata": {
  "kernelspec": {
   "display_name": "Python 3 (ipykernel)",
   "language": "python",
   "name": "python3"
  },
  "language_info": {
   "codemirror_mode": {
    "name": "ipython",
    "version": 3
   },
   "file_extension": ".py",
   "mimetype": "text/x-python",
   "name": "python",
   "nbconvert_exporter": "python",
   "pygments_lexer": "ipython3",
   "version": "3.10.6"
  },
  "toc": {
   "base_numbering": 1,
   "nav_menu": {},
   "number_sections": true,
   "sideBar": true,
   "skip_h1_title": false,
   "title_cell": "Table of Contents",
   "title_sidebar": "Contents",
   "toc_cell": false,
   "toc_position": {
    "height": "calc(100% - 180px)",
    "left": "10px",
    "top": "150px",
    "width": "165px"
   },
   "toc_section_display": true,
   "toc_window_display": true
  }
 },
 "nbformat": 4,
 "nbformat_minor": 4
}

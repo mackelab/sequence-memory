{
 "cells": [
  {
   "cell_type": "code",
   "execution_count": null,
   "metadata": {},
   "outputs": [],
   "source": [
    "import scipy.io\n",
    "import os\n",
    "import sys\n",
    "sys.path.insert(0,'..')\n",
    "from rnn.model import RNN\n",
    "from rnn.task import trial_generator\n",
    "import numpy as np\n",
    "from analysis.tf_utils import *\n",
    "from analysis.analysis_utils import *\n",
    "from scipy.stats import zscore\n",
    "from itertools import permutations\n",
    "import copy\n",
    "import matplotlib as mpl\n",
    "import matplotlib.pyplot as plt\n",
    "from matplotlib import cm\n",
    "from matplotlib.colors import ListedColormap, LinearSegmentedColormap\n",
    "from matplotlib.animation import FuncAnimation\n",
    "# from parula import Parula\n",
    "from cycler import cycler\n",
    "from analysis.summary import run_summary\n",
    "from matplotlib import gridspec\n",
    "from matplotlib.ticker import StrMethodFormatter\n",
    "import pickle\n",
    "%matplotlib inline"
   ]
  },
  {
   "cell_type": "markdown",
   "metadata": {},
   "source": [
    "# Experiment settings"
   ]
  },
  {
   "cell_type": "code",
   "execution_count": null,
   "metadata": {},
   "outputs": [],
   "source": [
    "base_dir = \"\"\n",
    "task_dir = \"datasweep_main.pkl\"\n",
    "\n",
    "summary_settings = {\n",
    "    \"upsample\" : 1, # Increase temporal resolution\n",
    "    \"ref_phase\" : \"sine\", # Reference phase for 'spike-phase' histogram, either sine or LFP\n",
    "    \"onlyGaba\" : False,  # Only use inhibitory neurons for calculating LFP\n",
    "    \"cutoff_p\": 10e-3, # For Wilc p test\n",
    "    \"normalize_fr_extract\":  True,  # Normalize extracted firing rates\n",
    "    \"n_trials\": 224,  # Number trials used in analysis\n",
    "    \"randomize_onset\": False, # Randomise stimulus onset\n",
    "    \"delay_ms\": 2500, # Delay time in ms\n",
    "    \"disable_noise\": False, # With or without noise\n",
    "    \"freqs_l\": np.logspace(*np.log10([1, 25]), num=50), # Frequencies for spectrograms\n",
    "    \"balance_trials\": True, # Draw trials with balanced proportion of each stimuli\n",
    "    \"substr_mean_LFP\": False, # Substract mean LFP\n",
    "    \"delay_buffer1\": 25, # Disregard short period after stimulus offset\n",
    "    \"delay_buffer2\": 25, # Disregard short period before probe onset\n",
    "    \"nbins\": 20, # Number of bins for 'spike' phase histograms\n",
    "    \"common_baseline\" : True, # Common baseline\n",
    "    \"freqs\": [1, 1.5, 1.75, 2.04, 2.37, 2.75, 3.21, 3.73, 4.35, 5] # Frequencies for vex plots\n",
    "}\n",
    "pltcolors, pltcolors_alt = steffiscolours()\n"
   ]
  },
  {
   "cell_type": "markdown",
   "metadata": {},
   "source": [
    "# Run or load summary over many models"
   ]
  },
  {
   "cell_type": "code",
   "execution_count": null,
   "metadata": {},
   "outputs": [],
   "source": [
    "model_dir = os.path.join(base_dir, \"..\", \"models/sweep_main\")\n",
    "data_dir = \"../data/\"+str(task_dir)\n",
    "data_list, summary_settings = run_summary(summary_settings, model_dir, data_dir)\n"
   ]
  },
  {
   "cell_type": "code",
   "execution_count": null,
   "metadata": {},
   "outputs": [],
   "source": [
    "data_list.keys()"
   ]
  },
  {
   "cell_type": "markdown",
   "metadata": {},
   "source": [
    "# Generate plots"
   ]
  },
  {
   "cell_type": "code",
   "execution_count": null,
   "metadata": {},
   "outputs": [],
   "source": [
    "# Plot accuracies of all trained models\n",
    "\n",
    "acc_threshold = 0.80\n",
    "acc_indices = []\n",
    "for i in range(len(data_list[\"acc\"])):\n",
    "    if data_list[\"acc\"][i]>acc_threshold:\n",
    "        plt.scatter(data_list[\"loss_f\"][i], data_list[\"acc\"][i], color = 'green')\n",
    "        acc_indices.append(i)\n",
    "    else:\n",
    "        plt.scatter(data_list[\"loss_f\"][i], data_list[\"acc\"][i], color = 'red')\n",
    "\n",
    "plt.xlabel(\"Osc_freq\")\n",
    "plt.ylabel(\"ACC\")\n",
    "plt.title(\"Accuracy\");"
   ]
  },
  {
   "cell_type": "code",
   "execution_count": null,
   "metadata": {},
   "outputs": [],
   "source": [
    "# Plot oscillation frequency for all trained models\n",
    "\n",
    "fr_l = data_list[\"summary_settings\"][\"freqs_l\"]\n",
    "plt_indices = []\n",
    "for i in acc_indices:\n",
    "    #osc_freq = fr_l[np.argmax(np.mean(data_list[\"post_spectrum\"][i],axis=1))]\n",
    "    osc_freq = data_list['vex_f'][i]\n",
    "\n",
    "    if np.isclose(data_list[\"loss_f\"][i], osc_freq, atol=.2):\n",
    "        plt.scatter(data_list[\"loss_f\"][i],osc_freq, color= 'green', alpha = 0.1)\n",
    "        plt_indices.append(i)\n",
    "\n",
    "    else:\n",
    "        plt.scatter(data_list[\"loss_f\"][i], osc_freq, color = 'red', alpha = 0.1)\n",
    "plt.xlabel(\"Osc_freq\")\n",
    "plt.ylabel(\"Top_freq\")\n",
    "plt.title(\"Oscillation frequency\");\n"
   ]
  },
  {
   "cell_type": "code",
   "execution_count": null,
   "metadata": {},
   "outputs": [],
   "source": [
    "data_list['model_names'][0]"
   ]
  },
  {
   "cell_type": "code",
   "execution_count": null,
   "metadata": {},
   "outputs": [],
   "source": [
    "accs_over_models = [[],[],[],[]]\n",
    "#freqs=[1.5,2.04,2.75,3.73]\n",
    "freqs=[2.75]\n",
    "\n",
    "num_mod=0\n",
    "for freq_i, freq in enumerate(freqs):\n",
    "    for ind in plt_indices:\n",
    "        fname = data_list['model_names'][ind]\n",
    "        model_file = os.path.join(model_dir, fname)\n",
    "        net = RNN()\n",
    "        var = scipy.io.loadmat(model_file)\n",
    "        if np.isclose(var['lossF'][0][0],freq):\n",
    "            net.load_model(model_file)\n",
    "            model_par, settings = reinstate_params(var)\n",
    "\n",
    "            #trial generator\n",
    "            trial_gen = trial_generator(\n",
    "                int(var[\"n_items\"][0][0]),\n",
    "                net.n_channels,\n",
    "                net.out_channels,\n",
    "                val_perc=0,\n",
    "            )\n",
    "\n",
    "            delays = np.arange(150,400,1)\n",
    "            accs = extrapolate_delays(128,delays,settings,trial_gen,net,verbose=False)\n",
    "            accs_over_models[freq_i].append(accs)\n",
    "            print(str(num_mod) + \"/\" +str(len(plt_indices)))\n",
    "            num_mod+=1"
   ]
  },
  {
   "cell_type": "code",
   "execution_count": null,
   "metadata": {},
   "outputs": [],
   "source": [
    "for i in range(4):\n",
    "    plt.plot(delays,np.array(accs_over_models[i]).T+i,color=pltcolors_alt[i])\n",
    "    plt.plot(delays,np.mean(np.array(accs_over_models[i]),axis=0).T+i,color='black')\n",
    "\n",
    "    print(len(accs_over_models[i]))\n",
    "plt.xlabel(\"delay\")\n",
    "plt.ylabel(\"accuracy\")"
   ]
  },
  {
   "cell_type": "code",
   "execution_count": null,
   "metadata": {},
   "outputs": [],
   "source": [
    "#np.save(\"accs28.npy\",np.array(accs_over_models[0]))"
   ]
  },
  {
   "cell_type": "code",
   "execution_count": null,
   "metadata": {},
   "outputs": [],
   "source": [
    "data =[\"accs15.npy\",\"accs20.npy\",\"accs27.npy\",\"accs37.npy\"]\n",
    "for i in range(4):\n",
    "    dat = np.load(data[i])\n",
    "    plt.plot(delays,dat.T+i,color=pltcolors_alt[i])\n",
    "    plt.plot(delays,np.mean(dat,axis=0).T+i,color='black')\n",
    "    print(len(accs_over_models[i]))\n",
    "    plt.plot(delays, 1+i+0.2*np.cos(freqs[i]*np.pi*2*(delays/100-2.5)),color='grey')\n",
    "\n",
    "plt.xlabel(\"delay\")\n",
    "plt.ylabel(\"accuracy\")"
   ]
  },
  {
   "cell_type": "code",
   "execution_count": null,
   "metadata": {},
   "outputs": [],
   "source": [
    "import matplotlib.pyplot as plt"
   ]
  },
  {
   "cell_type": "code",
   "execution_count": null,
   "metadata": {},
   "outputs": [],
   "source": [
    "data =[\"accs15.npy\",\"accs20.npy\",\"accs27.npy\",\"accs37.npy\"]\n",
    "freqs=[1.5,2.04,2.75,3.73]\n",
    "fig,axs = plt.subplots(4,figsize=(2.8,2.8))\n",
    "lwm=.5\n",
    "for i in range(4):\n",
    "    dat = np.load(data[i])\n",
    "    print(len(dat))\n",
    "    axs[i].plot(delays/100,dat.T,color='darkgrey',alpha=.5)\n",
    "    axs[i].plot(delays/100,np.mean(dat,axis=0).T,color=pltcolors_alt[i],zorder=10)\n",
    "    axs[i].plot(delays/100,np.mean(dat,axis=0).T,color=pltcolors_alt[i],zorder=10,alpha=0,label=str(freqs[i]) + \" Hz\",lw = lwm)\n",
    "    #axs[i].plot(delays/100, 0.57+0.1*np.cos(freqs[i]*np.pi*2*(delays/100-2.5)),color='purple',zorder=-100)\n",
    "\n",
    "    axs[i].axhline(0.5,color='grey',zorder=-10,ls='--')\n",
    "    axs[i].set_ylim(0.3,1)\n",
    "    axs[i].set_xlim(delays[0]/100,delays[-1]/100)\n",
    "    axs[i].spines['bottom'].set_position(('outward',5)) \n",
    "    #axs[i].spines['left'].set_position(('outward', 3)) \n",
    "    if i<3:\n",
    "        axs[i].spines[\"bottom\"].set_visible(False)\n",
    "        axs[i].set_xticks([])\n",
    "    else:\n",
    "        axs[i].set_xticks(np.arange(1.5,4.01,0.5))\n",
    "\n",
    "    print(len(accs_over_models[i]))\n",
    "axs[0].legend(loc=1).set_zorder(102)\n",
    "axs[1].legend(loc=1).set_zorder(102)\n",
    "axs[2].legend(loc=1).set_zorder(102)\n",
    "axs[3].legend(loc=1).set_zorder(102)\n",
    "\n",
    "plt.xlabel(\"delay (s)\")\n",
    "plt.ylabel(\"accuracy\")\n",
    "plt.savefig(\"../figures/acc.pdf\",facecolor='white')"
   ]
  },
  {
   "cell_type": "code",
   "execution_count": null,
   "metadata": {},
   "outputs": [],
   "source": [
    "data =[\"accs15.npy\",\"accs20.npy\",\"accs27.npy\",\"accs37.npy\"]\n",
    "freqs=[1.5,2.04,2.75,3.73]\n",
    "fig = plt.figure(figsize=(4,2.8),dpi=200)\n",
    "lwm=.5\n",
    "for i in range(4):\n",
    "    dat = np.load(data[i])\n",
    "    print(len(dat))\n",
    "    \n",
    "    indexL = 419+(i+1)*2\n",
    "    indexR = 420+(i+1)*2\n",
    "\n",
    "    ax1 = plt.subplot(indexL)\n",
    "    ax2 = plt.subplot(indexR,projection='polar')\n",
    "    ax2.plot(freqs[i]*np.pi*2*(delays/100-2.5),np.mean(dat,axis=0),color=pltcolors_alt[i],alpha=1,lw=.75)\n",
    "    ax2.plot(freqs[i]*np.pi*2*(delays/100-2.5),dat.T,color='darkgrey',alpha=.5,zorder=-10,lw=.75)\n",
    "\n",
    "    ax2.set_xticks([])\n",
    "    ax2.set_yticks([])\n",
    "\n",
    "    ax1.plot(delays/100,dat.T,color='darkgrey',alpha=.5)\n",
    "    ax1.plot(delays/100,np.mean(dat,axis=0).T,color=pltcolors_alt[i],zorder=10)\n",
    "    ax1.plot(delays/100,np.mean(dat,axis=0).T,color=pltcolors_alt[i],zorder=10,alpha=0,label=str(freqs[i]) + \" Hz\",lw = lwm)\n",
    "    #axs[i].plot(delays/100, 0.57+0.1*np.cos(freqs[i]*np.pi*2*(delays/100-2.5)),color='purple',zorder=-100)\n",
    "\n",
    "    ax1.axhline(0.5,color='grey',zorder=-10,ls='--')\n",
    "    ax1.set_ylim(0.3,1)\n",
    "    ax1.set_xlim(delays[0]/100,delays[-1]/100)\n",
    "    ax1.spines['bottom'].set_position(('outward',5)) \n",
    "    #axs[i].spines['left'].set_position(('outward', 3)) \n",
    "    ax2.set_xticks([0,0.5*np.pi,np.pi,1.5*np.pi])\n",
    "\n",
    "    if i ==0:\n",
    "        ax2.set_xticklabels([r'$0$',r'$\\frac{1}{2}\\pi$',r'$\\pi$',''])\n",
    "        ax2.set_yticks([0,1],zorder =1000)\n",
    "    elif i<3:\n",
    "        ax2.set_xticklabels([r'$0$','',r'$\\pi$','']) \n",
    "    else:\n",
    "        ax2.set_xticklabels([r'$0$','',r'1$\\frac{1}{2}\\pi$',r'$\\pi$'])\n",
    "    if i<3:\n",
    "        ax1.spines[\"bottom\"].set_visible(False)\n",
    "        ax1.set_xticks([])\n",
    "    else:\n",
    "        ax1.set_xticks(np.arange(1.5,4.01,0.5))\n",
    "\n",
    "    #print(len(accs_over_models[i]))\n",
    "    ax2.set_ylim(0,1)\n",
    "#axs[0].legend(loc=1).set_zorder(102)\n",
    "#axs[1].legend(loc=1).set_zorder(102)\n",
    "#axs[2].legend(loc=1).set_zorder(102)\n",
    "#axs[3].legend(loc=1).set_zorder(102)\n",
    "\n",
    "ax1.set_label(\"delay (s)\")\n",
    "ax1.set_label(\"accuracy\")\n",
    "plt.savefig(\"../figures/acc.pdf\",facecolor='white')"
   ]
  },
  {
   "cell_type": "code",
   "execution_count": null,
   "metadata": {},
   "outputs": [],
   "source": [
    "fig = plt.figure()\n",
    "ax1 = plt.subplot(111, projection='polar')\n",
    "plt.plot(freqs[i]*np.pi*2*delays/100,np.mean(dat,axis=0))"
   ]
  },
  {
   "cell_type": "code",
   "execution_count": null,
   "metadata": {},
   "outputs": [],
   "source": []
  },
  {
   "cell_type": "code",
   "execution_count": null,
   "metadata": {},
   "outputs": [],
   "source": []
  }
 ],
 "metadata": {
  "kernelspec": {
   "display_name": "Python 3 (ipykernel)",
   "language": "python",
   "name": "python3"
  },
  "language_info": {
   "codemirror_mode": {
    "name": "ipython",
    "version": 3
   },
   "file_extension": ".py",
   "mimetype": "text/x-python",
   "name": "python",
   "nbconvert_exporter": "python",
   "pygments_lexer": "ipython3",
   "version": "3.9.18"
  },
  "toc": {
   "base_numbering": 1,
   "nav_menu": {},
   "number_sections": true,
   "sideBar": true,
   "skip_h1_title": false,
   "title_cell": "Table of Contents",
   "title_sidebar": "Contents",
   "toc_cell": false,
   "toc_position": {},
   "toc_section_display": true,
   "toc_window_display": false
  }
 },
 "nbformat": 4,
 "nbformat_minor": 4
}
